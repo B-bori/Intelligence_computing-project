{
 "cells": [
  {
   "cell_type": "code",
   "execution_count": 1,
   "metadata": {},
   "outputs": [
    {
     "data": {
      "text/plain": [
       "['.ipynb_checkpoints',\n",
       " '대전과고 분석 (2020.09.24 과제).ipynb',\n",
       " '대전과고 분석 (2020.09.28 과제).ipynb',\n",
       " '대전과고 분석 (2020.10.05 과제).ipynb',\n",
       " '대전과고 분석 (2020.10.10 과제)_교수님 미팅전.ipynb',\n",
       " '대전과고.csv']"
      ]
     },
     "execution_count": 1,
     "metadata": {},
     "output_type": "execute_result"
    }
   ],
   "source": [
    "import os\n",
    "\n",
    "os.listdir()"
   ]
  },
  {
   "cell_type": "code",
   "execution_count": 2,
   "metadata": {},
   "outputs": [
    {
     "data": {
      "text/html": [
       "<div>\n",
       "<style scoped>\n",
       "    .dataframe tbody tr th:only-of-type {\n",
       "        vertical-align: middle;\n",
       "    }\n",
       "\n",
       "    .dataframe tbody tr th {\n",
       "        vertical-align: top;\n",
       "    }\n",
       "\n",
       "    .dataframe thead th {\n",
       "        text-align: right;\n",
       "    }\n",
       "</style>\n",
       "<table border=\"1\" class=\"dataframe\">\n",
       "  <thead>\n",
       "    <tr style=\"text-align: right;\">\n",
       "      <th></th>\n",
       "      <th>번아웃</th>\n",
       "      <th>gpa</th>\n",
       "      <th>수직개인</th>\n",
       "      <th>수평개인</th>\n",
       "      <th>수직공동체</th>\n",
       "      <th>수평공동체</th>\n",
       "      <th>자기능력</th>\n",
       "      <th>사회헌신</th>\n",
       "      <th>인간관계</th>\n",
       "      <th>경제우선</th>\n",
       "      <th>...</th>\n",
       "      <th>노력시간</th>\n",
       "      <th>협의주제</th>\n",
       "      <th>협의주제.1</th>\n",
       "      <th>협의주제.2</th>\n",
       "      <th>협의주제.3</th>\n",
       "      <th>협의주제.4</th>\n",
       "      <th>협의주제.5</th>\n",
       "      <th>협의주제.6</th>\n",
       "      <th>협의주제.7</th>\n",
       "      <th>협의주제.8</th>\n",
       "    </tr>\n",
       "  </thead>\n",
       "  <tbody>\n",
       "    <tr>\n",
       "      <th>0</th>\n",
       "      <td>0</td>\n",
       "      <td>3.55</td>\n",
       "      <td>3.125</td>\n",
       "      <td>3.875</td>\n",
       "      <td>3.714286</td>\n",
       "      <td>4.50</td>\n",
       "      <td>4.00</td>\n",
       "      <td>3.75</td>\n",
       "      <td>4.00</td>\n",
       "      <td>2.8</td>\n",
       "      <td>...</td>\n",
       "      <td>2.0</td>\n",
       "      <td>4.666667</td>\n",
       "      <td>4.333333</td>\n",
       "      <td>4.333333</td>\n",
       "      <td>5.000000</td>\n",
       "      <td>5.666667</td>\n",
       "      <td>3.000000</td>\n",
       "      <td>4.000000</td>\n",
       "      <td>4.000000</td>\n",
       "      <td>4.666667</td>\n",
       "    </tr>\n",
       "    <tr>\n",
       "      <th>1</th>\n",
       "      <td>0</td>\n",
       "      <td>3.49</td>\n",
       "      <td>3.750</td>\n",
       "      <td>4.750</td>\n",
       "      <td>3.714286</td>\n",
       "      <td>4.25</td>\n",
       "      <td>4.25</td>\n",
       "      <td>3.75</td>\n",
       "      <td>3.25</td>\n",
       "      <td>3.6</td>\n",
       "      <td>...</td>\n",
       "      <td>1.0</td>\n",
       "      <td>2.333333</td>\n",
       "      <td>4.666667</td>\n",
       "      <td>5.333333</td>\n",
       "      <td>6.000000</td>\n",
       "      <td>6.333333</td>\n",
       "      <td>2.666667</td>\n",
       "      <td>5.000000</td>\n",
       "      <td>4.333333</td>\n",
       "      <td>3.333333</td>\n",
       "    </tr>\n",
       "    <tr>\n",
       "      <th>2</th>\n",
       "      <td>0</td>\n",
       "      <td>3.73</td>\n",
       "      <td>2.625</td>\n",
       "      <td>4.625</td>\n",
       "      <td>3.000000</td>\n",
       "      <td>2.50</td>\n",
       "      <td>3.50</td>\n",
       "      <td>3.50</td>\n",
       "      <td>1.75</td>\n",
       "      <td>1.6</td>\n",
       "      <td>...</td>\n",
       "      <td>10.0</td>\n",
       "      <td>5.333333</td>\n",
       "      <td>5.333333</td>\n",
       "      <td>5.000000</td>\n",
       "      <td>4.666667</td>\n",
       "      <td>5.666667</td>\n",
       "      <td>5.000000</td>\n",
       "      <td>5.666667</td>\n",
       "      <td>4.666667</td>\n",
       "      <td>5.000000</td>\n",
       "    </tr>\n",
       "    <tr>\n",
       "      <th>3</th>\n",
       "      <td>0</td>\n",
       "      <td>4.01</td>\n",
       "      <td>3.375</td>\n",
       "      <td>4.000</td>\n",
       "      <td>3.857143</td>\n",
       "      <td>4.00</td>\n",
       "      <td>4.00</td>\n",
       "      <td>4.00</td>\n",
       "      <td>3.00</td>\n",
       "      <td>3.4</td>\n",
       "      <td>...</td>\n",
       "      <td>3.0</td>\n",
       "      <td>5.000000</td>\n",
       "      <td>5.000000</td>\n",
       "      <td>5.666667</td>\n",
       "      <td>4.333333</td>\n",
       "      <td>5.333333</td>\n",
       "      <td>4.666667</td>\n",
       "      <td>5.000000</td>\n",
       "      <td>5.000000</td>\n",
       "      <td>4.666667</td>\n",
       "    </tr>\n",
       "    <tr>\n",
       "      <th>4</th>\n",
       "      <td>0</td>\n",
       "      <td>3.48</td>\n",
       "      <td>2.625</td>\n",
       "      <td>4.000</td>\n",
       "      <td>3.285714</td>\n",
       "      <td>4.00</td>\n",
       "      <td>4.25</td>\n",
       "      <td>3.25</td>\n",
       "      <td>4.50</td>\n",
       "      <td>2.2</td>\n",
       "      <td>...</td>\n",
       "      <td>10.0</td>\n",
       "      <td>4.666667</td>\n",
       "      <td>4.666667</td>\n",
       "      <td>6.333333</td>\n",
       "      <td>5.333333</td>\n",
       "      <td>5.000000</td>\n",
       "      <td>5.333333</td>\n",
       "      <td>4.000000</td>\n",
       "      <td>3.666667</td>\n",
       "      <td>3.666667</td>\n",
       "    </tr>\n",
       "  </tbody>\n",
       "</table>\n",
       "<p>5 rows × 179 columns</p>\n",
       "</div>"
      ],
      "text/plain": [
       "   번아웃   gpa   수직개인   수평개인     수직공동체  수평공동체  자기능력  사회헌신  인간관계  경제우선  ...  \\\n",
       "0    0  3.55  3.125  3.875  3.714286   4.50  4.00  3.75  4.00   2.8  ...   \n",
       "1    0  3.49  3.750  4.750  3.714286   4.25  4.25  3.75  3.25   3.6  ...   \n",
       "2    0  3.73  2.625  4.625  3.000000   2.50  3.50  3.50  1.75   1.6  ...   \n",
       "3    0  4.01  3.375  4.000  3.857143   4.00  4.00  4.00  3.00   3.4  ...   \n",
       "4    0  3.48  2.625  4.000  3.285714   4.00  4.25  3.25  4.50   2.2  ...   \n",
       "\n",
       "   노력시간      협의주제    협의주제.1    협의주제.2    협의주제.3    협의주제.4    협의주제.5    협의주제.6  \\\n",
       "0   2.0  4.666667  4.333333  4.333333  5.000000  5.666667  3.000000  4.000000   \n",
       "1   1.0  2.333333  4.666667  5.333333  6.000000  6.333333  2.666667  5.000000   \n",
       "2  10.0  5.333333  5.333333  5.000000  4.666667  5.666667  5.000000  5.666667   \n",
       "3   3.0  5.000000  5.000000  5.666667  4.333333  5.333333  4.666667  5.000000   \n",
       "4  10.0  4.666667  4.666667  6.333333  5.333333  5.000000  5.333333  4.000000   \n",
       "\n",
       "     협의주제.7    협의주제.8  \n",
       "0  4.000000  4.666667  \n",
       "1  4.333333  3.333333  \n",
       "2  4.666667  5.000000  \n",
       "3  5.000000  4.666667  \n",
       "4  3.666667  3.666667  \n",
       "\n",
       "[5 rows x 179 columns]"
      ]
     },
     "execution_count": 2,
     "metadata": {},
     "output_type": "execute_result"
    }
   ],
   "source": [
    "import pandas as pd\n",
    "\n",
    "DSHS = pd.read_csv('대전과고.csv')\n",
    "\n",
    "DSHS = DSHS.iloc[:, :-1] # 마지막 열인 Text 를 포함하면 데이터프레임의 가독성이 떨어지기에 임시로 Text를 빼고 데이터프레임을 살펴봄\n",
    "\n",
    "DSHS.head()"
   ]
  },
  {
   "cell_type": "code",
   "execution_count": 3,
   "metadata": {},
   "outputs": [
    {
     "name": "stdout",
     "output_type": "stream",
     "text": [
      "0 번아웃\n",
      "1 gpa\n",
      "2 수직개인\n",
      "3 수평개인\n",
      "4 수직공동체\n",
      "5 수평공동체\n",
      "6 자기능력\n",
      "7 사회헌신\n",
      "8 인간관계\n",
      "9 경제우선\n",
      "10 사회인식\n",
      "11 안정추구\n",
      "12 창업효능감\n",
      "13 성실성\n",
      "14 자존감\n",
      "15 개방성\n",
      "16 타인이해\n",
      "17 공동체의식\n",
      "18 불안\n",
      "19 통제미흡\n",
      "20 단계1_1A\n",
      "21 단계1_1B\n",
      "22 단계1_2A\n",
      "23 단계1_2B\n",
      "24 단계1_3A\n",
      "25 단계1_3B\n",
      "26 단계1_4A\n",
      "27 단계1_4B\n",
      "28 능력발휘\n",
      "29 자율성\n",
      "30 보수\n",
      "31 안정성\n",
      "32 사회적인정\n",
      "33 사회봉사\n",
      "34 자기계발\n",
      "35 창의성\n",
      "36 신체운동능력\n",
      "37 손재능\n",
      "38 공간지각력\n",
      "39 음악능력\n",
      "40 창의력\n",
      "41 언어능력\n",
      "42 수리논리력\n",
      "43 자기성찰능력\n",
      "44 대인관계능력\n",
      "45 자연친화력\n",
      "46 예술시각능력\n",
      "47 자기관리능력\n",
      "48 R유형_실재형\n",
      "49 I유형.탐구형\n",
      "50 A유형_예술형\n",
      "51 S유형_사회형\n",
      "52 E유형_기업형\n",
      "53 C유형_관습형\n",
      "54 기계기술\n",
      "55 사회안전\n",
      "56 농림환경\n",
      "57 운동\n",
      "58 이학공학연구\n",
      "59 인문사회연구\n",
      "60 음악\n",
      "61 미술\n",
      "62 문학\n",
      "63 방송영상\n",
      "64 교육\n",
      "65 사회복지서비스\n",
      "66 관리경영\n",
      "67 사회언론\n",
      "68 영업판매\n",
      "69 사무행정\n",
      "70 세무회계\n",
      "71 과학분야_전문직\n",
      "72 과학분야_숙련직\n",
      "73 공학분야_전문직\n",
      "74 공학분야_숙련직\n",
      "75 소비자경제분야\n",
      "76 농업_천연자원분야\n",
      "77 경영분야_전문직\n",
      "78 경영분야_숙련직\n",
      "79 사무직\n",
      "80 언론직\n",
      "81 예술분야_전문직\n",
      "82 예술분야_숙련직\n",
      "83 서비스분야_전문직\n",
      "84 서비스분야_숙련직\n",
      "85 전산_정보통신분야\n",
      "86 컴퓨터응용분야\n",
      "87 계획성\n",
      "88 직업태도\n",
      "89 독립성\n",
      "90 자기이해\n",
      "91 정보탐색\n",
      "92 합리적의사결정\n",
      "93 희망직업지식\n",
      "94 진로탐색준비행동\n",
      "95 진로결정정도\n",
      "96 심층적전략\n",
      "97 능력자아\n",
      "98 기대\n",
      "99 능력목표지향\n",
      "100 벌점\n",
      "101 비의주제\n",
      "102 비의실험\n",
      "103 비의협업\n",
      "104 비의비판적사고\n",
      "105 비의문제발견및해결\n",
      "106 비의만족\n",
      "107 물리사교육시간\n",
      "108 물리사교육비\n",
      "109 물리누적사교육\n",
      "110 과학학습선호\n",
      "111 과학진로선호\n",
      "112 과학진로가치\n",
      "113 과학진로정보필요\n",
      "114 과학내용흥미\n",
      "115 교과가치노력\n",
      "116 과학교과유능감\n",
      "117 과학교사선호도\n",
      "118 창의적사고역량\n",
      "119 의사소통역량\n",
      "120 공동체역량\n",
      "121 비판적사고역량\n",
      "122 성별\n",
      "123 온라인경험\n",
      "124 질문습관\n",
      "125 토론학습\n",
      "126 실험선호\n",
      "127 혼자학습\n",
      "128 반복학습\n",
      "129 국어질문\n",
      "130 국어발표\n",
      "131 국어논리적\n",
      "132 국어콘텐츠\n",
      "133 국어학생활동\n",
      "134 영어질문\n",
      "135 영어발표\n",
      "136 영어논리적\n",
      "137 영어콘텐츠\n",
      "138 영어학생활동\n",
      "139 수학질문\n",
      "140 수학발표\n",
      "141 수학논리적\n",
      "142 수학콘텐츠\n",
      "143 수학학생활동\n",
      "144 물리질문\n",
      "145 물리발표\n",
      "146 물리논리적\n",
      "147 물리콘텐츠\n",
      "148 물리학생활동\n",
      "149 화학질문\n",
      "150 화학발표\n",
      "151 화학논리적\n",
      "152 화학콘텐츠\n",
      "153 화학학생활동\n",
      "154 생물질문\n",
      "155 생물발표\n",
      "156 생물논리적\n",
      "157 생물콘텐츠\n",
      "158 생물학생활동\n",
      "159 순위국어\n",
      "160 순위영어\n",
      "161 순위수학\n",
      "162 순위물리\n",
      "163 순위화학\n",
      "164 순위생물\n",
      "165 평균비행시간\n",
      "166 협의그룹\n",
      "167 머신러닝시간\n",
      "168 연습시간\n",
      "169 노력시간\n",
      "170 협의주제\n",
      "171 협의주제.1\n",
      "172 협의주제.2\n",
      "173 협의주제.3\n",
      "174 협의주제.4\n",
      "175 협의주제.5\n",
      "176 협의주제.6\n",
      "177 협의주제.7\n",
      "178 협의주제.8\n"
     ]
    }
   ],
   "source": [
    "for idx, val in enumerate(list(DSHS.columns)):\n",
    "    print(idx, val)"
   ]
  },
  {
   "cell_type": "code",
   "execution_count": null,
   "metadata": {},
   "outputs": [],
   "source": []
  },
  {
   "cell_type": "code",
   "execution_count": 4,
   "metadata": {},
   "outputs": [],
   "source": [
    "DSHS = DSHS.drop(['단계1_1A', '단계1_1B', '단계1_2A', '단계1_2B', '단계1_3A', '단계1_3B', '단계1_4A', '단계1_4B',\n",
    "                 '비의주제', '비의실험', '비의협업', '비의비판적사고', '비의문제발견및해결', '비의만족',\n",
    "                 '협의주제', '협의주제.1', '협의주제.2', '협의주제.3', '협의주제.4', '협의주제.5', '협의주제.6', '협의주제.7', \n",
    "                  '협의주제.8', '협의그룹'], axis=1)"
   ]
  },
  {
   "cell_type": "code",
   "execution_count": 5,
   "metadata": {},
   "outputs": [
    {
     "data": {
      "text/plain": [
       "(88, 155)"
      ]
     },
     "execution_count": 5,
     "metadata": {},
     "output_type": "execute_result"
    }
   ],
   "source": [
    "DSHS.shape"
   ]
  },
  {
   "cell_type": "code",
   "execution_count": 10,
   "metadata": {},
   "outputs": [
    {
     "name": "stdout",
     "output_type": "stream",
     "text": [
      "0 번아웃\n",
      "1 gpa\n",
      "2 수직개인\n",
      "3 수평개인\n",
      "4 수직공동체\n",
      "5 수평공동체\n",
      "6 자기능력\n",
      "7 사회헌신\n",
      "8 인간관계\n",
      "9 경제우선\n",
      "10 사회인식\n",
      "11 안정추구\n",
      "12 창업효능감\n",
      "13 성실성\n",
      "14 자존감\n",
      "15 개방성\n",
      "16 타인이해\n",
      "17 공동체의식\n",
      "18 불안\n",
      "19 통제미흡\n",
      "20 능력발휘\n",
      "21 자율성\n",
      "22 보수\n",
      "23 안정성\n",
      "24 사회적인정\n",
      "25 사회봉사\n",
      "26 자기계발\n",
      "27 창의성\n",
      "28 신체운동능력\n",
      "29 손재능\n",
      "30 공간지각력\n",
      "31 음악능력\n",
      "32 창의력\n",
      "33 언어능력\n",
      "34 수리논리력\n",
      "35 자기성찰능력\n",
      "36 대인관계능력\n",
      "37 자연친화력\n",
      "38 예술시각능력\n",
      "39 자기관리능력\n",
      "40 R유형_실재형\n",
      "41 I유형.탐구형\n",
      "42 A유형_예술형\n",
      "43 S유형_사회형\n",
      "44 E유형_기업형\n",
      "45 C유형_관습형\n",
      "46 기계기술\n",
      "47 사회안전\n",
      "48 농림환경\n",
      "49 운동\n",
      "50 이학공학연구\n",
      "51 인문사회연구\n",
      "52 음악\n",
      "53 미술\n",
      "54 문학\n",
      "55 방송영상\n",
      "56 교육\n",
      "57 사회복지서비스\n",
      "58 관리경영\n",
      "59 사회언론\n",
      "60 영업판매\n",
      "61 사무행정\n",
      "62 세무회계\n",
      "63 과학분야_전문직\n",
      "64 과학분야_숙련직\n",
      "65 공학분야_전문직\n",
      "66 공학분야_숙련직\n",
      "67 소비자경제분야\n",
      "68 농업_천연자원분야\n",
      "69 경영분야_전문직\n",
      "70 경영분야_숙련직\n",
      "71 사무직\n",
      "72 언론직\n",
      "73 예술분야_전문직\n",
      "74 예술분야_숙련직\n",
      "75 서비스분야_전문직\n",
      "76 서비스분야_숙련직\n",
      "77 전산_정보통신분야\n",
      "78 컴퓨터응용분야\n",
      "79 계획성\n",
      "80 직업태도\n",
      "81 독립성\n",
      "82 자기이해\n",
      "83 정보탐색\n",
      "84 합리적의사결정\n",
      "85 희망직업지식\n",
      "86 진로탐색준비행동\n",
      "87 진로결정정도\n",
      "88 심층적전략\n",
      "89 능력자아\n",
      "90 기대\n",
      "91 능력목표지향\n",
      "92 벌점\n",
      "93 물리사교육시간\n",
      "94 물리사교육비\n",
      "95 물리누적사교육\n",
      "96 과학학습선호\n",
      "97 과학진로선호\n",
      "98 과학진로가치\n",
      "99 과학진로정보필요\n",
      "100 과학내용흥미\n",
      "101 교과가치노력\n",
      "102 과학교과유능감\n",
      "103 과학교사선호도\n",
      "104 창의적사고역량\n",
      "105 의사소통역량\n",
      "106 공동체역량\n",
      "107 비판적사고역량\n",
      "108 성별\n",
      "109 온라인경험\n",
      "110 질문습관\n",
      "111 토론학습\n",
      "112 실험선호\n",
      "113 혼자학습\n",
      "114 반복학습\n",
      "115 국어질문\n",
      "116 국어발표\n",
      "117 국어논리적\n",
      "118 국어콘텐츠\n",
      "119 국어학생활동\n",
      "120 영어질문\n",
      "121 영어발표\n",
      "122 영어논리적\n",
      "123 영어콘텐츠\n",
      "124 영어학생활동\n",
      "125 수학질문\n",
      "126 수학발표\n",
      "127 수학논리적\n",
      "128 수학콘텐츠\n",
      "129 수학학생활동\n",
      "130 물리질문\n",
      "131 물리발표\n",
      "132 물리논리적\n",
      "133 물리콘텐츠\n",
      "134 물리학생활동\n",
      "135 화학질문\n",
      "136 화학발표\n",
      "137 화학논리적\n",
      "138 화학콘텐츠\n",
      "139 화학학생활동\n",
      "140 생물질문\n",
      "141 생물발표\n",
      "142 생물논리적\n",
      "143 생물콘텐츠\n",
      "144 생물학생활동\n",
      "145 순위국어\n",
      "146 순위영어\n",
      "147 순위수학\n",
      "148 순위물리\n",
      "149 순위화학\n",
      "150 순위생물\n",
      "151 탐구성과\n"
     ]
    }
   ],
   "source": [
    "for idx, val in enumerate(list(DSHS.columns)):\n",
    "    print(idx, val)"
   ]
  },
  {
   "cell_type": "code",
   "execution_count": 173,
   "metadata": {},
   "outputs": [],
   "source": [
    "# 번아웃 학생이 취약한 부분 (25% 미만), 우수한 부분 (75% 이상)인 column들을 각각 good, worse 로 저장\n",
    "# '자기관리능력', '이학공학연구', '과학분야_전문직', '과학분야_숙련직', '공학분야_전문직'은 눈에띄게 낮은 수치\n",
    "# 번아웃 학생은 남자다 (더 비율이 높은 쪽)\n",
    "\n",
    "good = ['수평개인', '경제우선', '사회인식', '안정추구', '개방성', '불안', '통제미흡', '자율성', '창의성', '자연친화력',\n",
    "       'A유형_예술형', '사회안전', '농림환경', '관리경영', '사회언론', '영업판매', '세무회계', '소비자경제분야', \n",
    "       '농업_천연자원분야', '경영분야_전문직', '사무직', '언론직', '예술분야_전문직', '예술분야_숙련직', '서비스분야_전문직',\n",
    "       '서비스분야_숙련직', '계획성', '독립성', '능력목표지향', '벌점', '물리사교육비', '과학진로가치', '창의적사고역량',\n",
    "       '의사소통역량', '공동체역량', '비판적사고역량', '질문습관', '토론학습', '혼자학습', '반복학습', '국어질문', '국어발표',\n",
    "       '국어논리적', '국어콘텐츠', '국어학생활동', '영어질문', '영어발표', '영어논리적', '영어콘텐츠', '영어학생활동', \n",
    "       '수학질문', '수학발표', '수학논리적', '수학콘텐츠', '수학학생활동', '물리질문', '물리발표', '물리논리적', '물리콘텐츠',\n",
    "       '물리학생활동', '화학질문', '화학발표', '화학논리적', '화학콘텐츠', '화학학생활동', '생물질문', '생물논리적', '생물콘텐츠',\n",
    "       '생물학생활동', '순위국어', '순위물리']\n",
    "\n",
    "worse = ['gpa', '수직개인', '사회헌신', '인간관계', '타인이해', '공동체의식', '능력발휘', '사회봉사', '신체운동능력', '손재능', \n",
    "         '공간지각력', '자기관리능력', 'I유형_탐구형', 'S유형_사회형', 'E유형_기업형', '기계기술', '이학공학연구', '인문사회연구',\n",
    "        '과학분야_전문직', '과학분야_숙련직', '공학분야_전문직', '전산_정보통신분야', '진로결정도', '심층적전략', '능력자아',\n",
    "        '물리누적사교육', '교과가치노력', '온라인경험', '실험선호', '평균비행시간']"
   ]
  },
  {
   "attachments": {},
   "cell_type": "markdown",
   "metadata": {},
   "source": [
    "# 의미를 정확하게 모르는 column은 삭제 \n",
    "## (단계 1_1A ~ 1_4B, 비의주제 ~ 비의만족, 협의그룹, 협의주제 ~ 협의주제 8.)"
   ]
  },
  {
   "cell_type": "code",
   "execution_count": null,
   "metadata": {},
   "outputs": [],
   "source": [
    "번아웃 학생은...\n",
    "\n",
    "1. 과학분야 (특히 연구)에 흥미가 없는 것으로 보임 (공학은 어느정도 흥미, 순수과학은 x)\n",
    "2. 환경분야에 적성이 있는듯\n",
    "3. 통제가 미흡하지만 계획성과 독립성이 큼 (심층적전략이 부족한 것으로 보아 구체적인 계획은 세우지 않는것으로 유추 가능)\n",
    "4. 경영, 기업관련 수치가 높음\n",
    "5. 본인이 잘하는 것을 모를 가능성이 큼 (능력자아의 결핍)\n",
    "6. 창의력이 매우높은 것 같음\n",
    "7. 학업태도가 굉장히 높다\n",
    "8. \n",
    "\n",
    "세울 수 있는 가설:\n",
    "1. 진로결정을 하지못한 상태에서 과학고 특성의 커리큘럼에 적성을 못느끼고 혼란을 느꼈을 것임 (--> 벌점이 높은 것도 연관지어 생각가능)\n",
    "2. 계획성과 독립성이 크지만 스스로의 통제가 부족하여 스트레스를 받았을 것임\n",
    "3. 혼자서 무언가를 하는 것을 선호하는 성격이지만 주변에 친구들이 많아서 함께 있으면서 스트레스를 받았을 수도 있을 것임\n",
    "\n",
    "특이한점:\n",
    "1. 물리사교육비 및 물리사교육시간은 높지만 물리누적사교육은 작다\n",
    ">> 과학고 준비를 급하게 했을 가능성... (--> 만약 그렇다면, 학교에서 적응하지 못한것도 보충설명가능)\n",
    "\n",
    "2. 전반적으로보아 과학분야에 흥미가 덜한 것처럼 보이지만 '과학진로가치' 수치는 또 높게 나옴;;;\n",
    "\n",
    "확인해야할점:\n",
    "1. 순위국어 ~ 순위생물은 높을 수록 좋은수치인가?\n",
    "2. '평균비행시간'은, 못된 행위를 뜻하는 '비행'의 의미인가, 아니면 text에 나와있던 비행기가 난 시간인 말 그대로 '비행시간'을 의미하는가?\n",
    "\n",
    "뭔가 나의 아주 개인적인 시선으로 바라보면, 번아웃 학생은 \n",
    "부모님의 학벌이 좋은 부유한 집안에서 자라 뒤늦게 과학에 흥미를 느끼고\n",
    "과학고 준비를 했지만 창의력이 높음\n",
    "또 과학교과에서 점차 흥미가 생기고 학업 태도 또한 좋지만 그 외에 연구 등 다른 과학고 커리큘럼에는 적성을 느끼지 못할 뿐더러\n",
    "욕심이 많고 약간의 이기주의 (혹은 개인주의) 적인 성격이 있어서 친구들과의 관계가 원만하지 못하고,최근 혼란을 겪었을 것 같다...\n",
    "\n",
    "또한 번아웃의 기준이 만약 학교 전학 등이라면,\n",
    "번아웃이 될 조건에는 전학을 자유롭게 갈 수 있을만큼 집의 재력이 충분해야 할 것임."
   ]
  },
  {
   "attachments": {},
   "cell_type": "markdown",
   "metadata": {},
   "source": [
    "# 가설 1. 진로결정을 하지못한 상태에서 과학고 특성의 커리큘럼에 적성을 못느끼고 혼란을 느꼈을 것임 (--> 벌점이 높은 것도 연관지어 생각가능)\n",
    "\n",
    "과연 학생이 과학고 커리큘럼에 적응하지 못하였는지 확인하기 위해 '과학'과 관련된 column들을 뽑아 비교\n",
    "--> 유사한 경향성을 나타내는 것끼리 column을 어떻게 결합할 수 있을지 모색해보는 것도 좋을듯\n",
    "\n",
    ">> 과학고에서의 연구수업 및 공학과 관련된 새로운 컬럼과 학교수업과 관련된 컬럼을 각각 만들어서 활용해볼 수도 있을것임."
   ]
  },
  {
   "cell_type": "code",
   "execution_count": 13,
   "metadata": {},
   "outputs": [
    {
     "data": {
      "text/html": [
       "<div>\n",
       "<style scoped>\n",
       "    .dataframe tbody tr th:only-of-type {\n",
       "        vertical-align: middle;\n",
       "    }\n",
       "\n",
       "    .dataframe tbody tr th {\n",
       "        vertical-align: top;\n",
       "    }\n",
       "\n",
       "    .dataframe thead th {\n",
       "        text-align: right;\n",
       "    }\n",
       "</style>\n",
       "<table border=\"1\" class=\"dataframe\">\n",
       "  <thead>\n",
       "    <tr style=\"text-align: right;\">\n",
       "      <th></th>\n",
       "      <th>gpa</th>\n",
       "    </tr>\n",
       "  </thead>\n",
       "  <tbody>\n",
       "    <tr>\n",
       "      <th>count</th>\n",
       "      <td>88.000000</td>\n",
       "    </tr>\n",
       "    <tr>\n",
       "      <th>mean</th>\n",
       "      <td>3.726136</td>\n",
       "    </tr>\n",
       "    <tr>\n",
       "      <th>std</th>\n",
       "      <td>0.341970</td>\n",
       "    </tr>\n",
       "    <tr>\n",
       "      <th>min</th>\n",
       "      <td>2.660000</td>\n",
       "    </tr>\n",
       "    <tr>\n",
       "      <th>25%</th>\n",
       "      <td>3.535000</td>\n",
       "    </tr>\n",
       "    <tr>\n",
       "      <th>50%</th>\n",
       "      <td>3.775000</td>\n",
       "    </tr>\n",
       "    <tr>\n",
       "      <th>75%</th>\n",
       "      <td>3.970000</td>\n",
       "    </tr>\n",
       "    <tr>\n",
       "      <th>max</th>\n",
       "      <td>4.300000</td>\n",
       "    </tr>\n",
       "  </tbody>\n",
       "</table>\n",
       "</div>"
      ],
      "text/plain": [
       "             gpa\n",
       "count  88.000000\n",
       "mean    3.726136\n",
       "std     0.341970\n",
       "min     2.660000\n",
       "25%     3.535000\n",
       "50%     3.775000\n",
       "75%     3.970000\n",
       "max     4.300000"
      ]
     },
     "execution_count": 13,
     "metadata": {},
     "output_type": "execute_result"
    }
   ],
   "source": [
    "DSHS[['gpa']].describe()"
   ]
  },
  {
   "cell_type": "code",
   "execution_count": 175,
   "metadata": {},
   "outputs": [
    {
     "data": {
      "text/plain": [
       "['번아웃',\n",
       " 'gpa',\n",
       " '수직개인',\n",
       " '수평개인',\n",
       " '수직공동체',\n",
       " '수평공동체',\n",
       " '자기능력',\n",
       " '사회헌신',\n",
       " '인간관계',\n",
       " '경제우선',\n",
       " '사회인식',\n",
       " '안정추구',\n",
       " '창업효능감',\n",
       " '성실성',\n",
       " '자존감',\n",
       " '개방성',\n",
       " '타인이해',\n",
       " '공동체의식',\n",
       " '불안',\n",
       " '통제미흡',\n",
       " '능력발휘',\n",
       " '자율성',\n",
       " '보수',\n",
       " '안정성',\n",
       " '사회적인정',\n",
       " '사회봉사',\n",
       " '자기계발',\n",
       " '창의성',\n",
       " '신체운동능력',\n",
       " '손재능',\n",
       " '공간지각력',\n",
       " '음악능력',\n",
       " '창의력',\n",
       " '언어능력',\n",
       " '수리논리력',\n",
       " '자기성찰능력',\n",
       " '대인관계능력',\n",
       " '자연친화력',\n",
       " '예술시각능력',\n",
       " '자기관리능력',\n",
       " 'R유형_실재형',\n",
       " 'I유형.탐구형',\n",
       " 'A유형_예술형',\n",
       " 'S유형_사회형',\n",
       " 'E유형_기업형',\n",
       " 'C유형_관습형',\n",
       " '기계기술',\n",
       " '사회안전',\n",
       " '농림환경',\n",
       " '운동',\n",
       " '이학공학연구',\n",
       " '인문사회연구',\n",
       " '음악',\n",
       " '미술',\n",
       " '문학',\n",
       " '방송영상',\n",
       " '교육',\n",
       " '사회복지서비스',\n",
       " '관리경영',\n",
       " '사회언론',\n",
       " '영업판매',\n",
       " '사무행정',\n",
       " '세무회계',\n",
       " '과학분야_전문직',\n",
       " '과학분야_숙련직',\n",
       " '공학분야_전문직',\n",
       " '공학분야_숙련직',\n",
       " '소비자경제분야',\n",
       " '농업_천연자원분야',\n",
       " '경영분야_전문직',\n",
       " '경영분야_숙련직',\n",
       " '사무직',\n",
       " '언론직',\n",
       " '예술분야_전문직',\n",
       " '예술분야_숙련직',\n",
       " '서비스분야_전문직',\n",
       " '서비스분야_숙련직',\n",
       " '전산_정보통신분야',\n",
       " '컴퓨터응용분야',\n",
       " '계획성',\n",
       " '직업태도',\n",
       " '독립성',\n",
       " '자기이해',\n",
       " '정보탐색',\n",
       " '합리적의사결정',\n",
       " '희망직업지식',\n",
       " '진로탐색준비행동',\n",
       " '진로결정정도',\n",
       " '심층적전략',\n",
       " '능력자아',\n",
       " '기대',\n",
       " '능력목표지향',\n",
       " '벌점',\n",
       " '물리사교육시간',\n",
       " '물리사교육비',\n",
       " '물리누적사교육',\n",
       " '과학학습선호',\n",
       " '과학진로선호',\n",
       " '과학진로가치',\n",
       " '과학진로정보필요',\n",
       " '과학내용흥미',\n",
       " '교과가치노력',\n",
       " '과학교과유능감',\n",
       " '과학교사선호도',\n",
       " '창의적사고역량',\n",
       " '의사소통역량',\n",
       " '공동체역량',\n",
       " '비판적사고역량',\n",
       " '성별',\n",
       " '온라인경험',\n",
       " '질문습관',\n",
       " '토론학습',\n",
       " '실험선호',\n",
       " '혼자학습',\n",
       " '반복학습',\n",
       " '국어질문',\n",
       " '국어발표',\n",
       " '국어논리적',\n",
       " '국어콘텐츠',\n",
       " '국어학생활동',\n",
       " '영어질문',\n",
       " '영어발표',\n",
       " '영어논리적',\n",
       " '영어콘텐츠',\n",
       " '영어학생활동',\n",
       " '수학질문',\n",
       " '수학발표',\n",
       " '수학논리적',\n",
       " '수학콘텐츠',\n",
       " '수학학생활동',\n",
       " '물리질문',\n",
       " '물리발표',\n",
       " '물리논리적',\n",
       " '물리콘텐츠',\n",
       " '물리학생활동',\n",
       " '화학질문',\n",
       " '화학발표',\n",
       " '화학논리적',\n",
       " '화학콘텐츠',\n",
       " '화학학생활동',\n",
       " '생물질문',\n",
       " '생물발표',\n",
       " '생물논리적',\n",
       " '생물콘텐츠',\n",
       " '생물학생활동',\n",
       " '순위국어',\n",
       " '순위영어',\n",
       " '순위수학',\n",
       " '순위물리',\n",
       " '순위화학',\n",
       " '순위생물',\n",
       " '평균비행시간',\n",
       " '머신러닝시간',\n",
       " '연습시간',\n",
       " '노력시간']"
      ]
     },
     "execution_count": 175,
     "metadata": {},
     "output_type": "execute_result"
    }
   ],
   "source": [
    "list(DSHS.columns)"
   ]
  },
  {
   "cell_type": "code",
   "execution_count": 176,
   "metadata": {},
   "outputs": [],
   "source": [
    "import matplotlib.pyplot as plt\n",
    "import seaborn as sns"
   ]
  },
  {
   "cell_type": "code",
   "execution_count": 177,
   "metadata": {},
   "outputs": [
    {
     "data": {
      "image/png": "[encoded data removed]",
      "text/plain": [
       "<Figure size 432x288 with 1 Axes>"
      ]
     },
     "metadata": {
      "needs_background": "light"
     },
     "output_type": "display_data"
    }
   ],
   "source": [
    "science_curriculum_related = DSHS[['이학공학연구', '과학분야_전문직', '과학분야_숙련직', '공학분야_전문직', '공학분야_숙련직',\n",
    "                                  '과학학습선호', '과학진로선호', '과학진로가치', '과학진로정보필요', '과학내용흥미', \n",
    "                                   '과학교과유능감', '과학교사선호도', '실험선호']]\n",
    "                      \n",
    "plt.boxplot(list(DSHS['이학공학연구']))\n",
    "plt.scatter(1, DSHS[DSHS['번아웃']==1]['이학공학연구'].iloc[0])\n",
    "plt.show()"
   ]
  },
  {
   "cell_type": "code",
   "execution_count": 178,
   "metadata": {},
   "outputs": [
    {
     "data": {
      "image/png": "[encoded data removed]",
      "text/plain": [
       "<Figure size 432x288 with 1 Axes>"
      ]
     },
     "metadata": {
      "needs_background": "light"
     },
     "output_type": "display_data"
    }
   ],
   "source": [
    "plt.boxplot(list(DSHS['과학분야_전문직']))\n",
    "plt.scatter(1, DSHS[DSHS['번아웃']==1]['과학분야_전문직'].iloc[0])\n",
    "plt.show()"
   ]
  },
  {
   "cell_type": "code",
   "execution_count": 179,
   "metadata": {},
   "outputs": [
    {
     "data": {
      "image/png": "[encoded data removed]",
      "text/plain": [
       "<Figure size 432x288 with 1 Axes>"
      ]
     },
     "metadata": {
      "needs_background": "light"
     },
     "output_type": "display_data"
    }
   ],
   "source": [
    "plt.boxplot(list(DSHS['과학분야_숙련직']))\n",
    "plt.scatter(1, DSHS[DSHS['번아웃']==1]['과학분야_숙련직'].iloc[0])\n",
    "plt.show()"
   ]
  },
  {
   "cell_type": "code",
   "execution_count": 180,
   "metadata": {},
   "outputs": [
    {
     "data": {
      "image/png": "[encoded data removed]",
      "text/plain": [
       "<Figure size 432x288 with 1 Axes>"
      ]
     },
     "metadata": {
      "needs_background": "light"
     },
     "output_type": "display_data"
    }
   ],
   "source": [
    "plt.boxplot(list(DSHS['공학분야_전문직']))\n",
    "plt.scatter(1, DSHS[DSHS['번아웃']==1]['공학분야_전문직'].iloc[0])\n",
    "plt.show()"
   ]
  },
  {
   "cell_type": "code",
   "execution_count": 181,
   "metadata": {},
   "outputs": [
    {
     "data": {
      "image/png": "[encoded data removed]",
      "text/plain": [
       "<Figure size 432x288 with 1 Axes>"
      ]
     },
     "metadata": {
      "needs_background": "light"
     },
     "output_type": "display_data"
    }
   ],
   "source": [
    "plt.boxplot(list(DSHS['공학분야_숙련직']))\n",
    "plt.scatter(1, DSHS[DSHS['번아웃']==1]['공학분야_숙련직'].iloc[0])\n",
    "plt.show()"
   ]
  },
  {
   "cell_type": "code",
   "execution_count": 182,
   "metadata": {},
   "outputs": [
    {
     "data": {
      "image/png": "[encoded data removed]",
      "text/plain": [
       "<Figure size 432x288 with 1 Axes>"
      ]
     },
     "metadata": {
      "needs_background": "light"
     },
     "output_type": "display_data"
    }
   ],
   "source": [
    "plt.boxplot(list(DSHS['과학학습선호']))\n",
    "plt.scatter(1, DSHS[DSHS['번아웃']==1]['과학학습선호'].iloc[0])\n",
    "plt.show()"
   ]
  },
  {
   "cell_type": "code",
   "execution_count": 183,
   "metadata": {},
   "outputs": [
    {
     "data": {
      "image/png": "[encoded data removed]",
      "text/plain": [
       "<Figure size 432x288 with 1 Axes>"
      ]
     },
     "metadata": {
      "needs_background": "light"
     },
     "output_type": "display_data"
    }
   ],
   "source": [
    "plt.boxplot(list(DSHS['과학진로선호']))\n",
    "plt.scatter(1, DSHS[DSHS['번아웃']==1]['과학진로선호'].iloc[0])\n",
    "plt.show()"
   ]
  },
  {
   "cell_type": "code",
   "execution_count": 184,
   "metadata": {},
   "outputs": [
    {
     "data": {
      "image/png": "[encoded data removed]",
      "text/plain": [
       "<Figure size 432x288 with 1 Axes>"
      ]
     },
     "metadata": {
      "needs_background": "light"
     },
     "output_type": "display_data"
    }
   ],
   "source": [
    "plt.boxplot(list(DSHS['과학진로가치']))\n",
    "plt.scatter(1, DSHS[DSHS['번아웃']==1]['과학진로가치'].iloc[0])\n",
    "plt.show()"
   ]
  },
  {
   "cell_type": "code",
   "execution_count": 185,
   "metadata": {},
   "outputs": [
    {
     "data": {
      "image/png": "[encoded data removed]",
      "text/plain": [
       "<Figure size 432x288 with 1 Axes>"
      ]
     },
     "metadata": {
      "needs_background": "light"
     },
     "output_type": "display_data"
    }
   ],
   "source": [
    "plt.boxplot(list(DSHS['과학진로정보필요']))\n",
    "plt.scatter(1, DSHS[DSHS['번아웃']==1]['과학진로정보필요'].iloc[0])\n",
    "plt.show()"
   ]
  },
  {
   "cell_type": "code",
   "execution_count": 186,
   "metadata": {},
   "outputs": [
    {
     "data": {
      "image/png": "[encoded data removed]",
      "text/plain": [
       "<Figure size 432x288 with 1 Axes>"
      ]
     },
     "metadata": {
      "needs_background": "light"
     },
     "output_type": "display_data"
    }
   ],
   "source": [
    "plt.boxplot(list(DSHS['과학내용흥미']))\n",
    "plt.scatter(1, DSHS[DSHS['번아웃']==1]['과학내용흥미'].iloc[0])\n",
    "plt.show()"
   ]
  },
  {
   "cell_type": "code",
   "execution_count": 187,
   "metadata": {},
   "outputs": [
    {
     "data": {
      "image/png": "[encoded data removed]",
      "text/plain": [
       "<Figure size 432x288 with 1 Axes>"
      ]
     },
     "metadata": {
      "needs_background": "light"
     },
     "output_type": "display_data"
    }
   ],
   "source": [
    "plt.boxplot(list(DSHS['과학교과유능감']))\n",
    "plt.scatter(1, DSHS[DSHS['번아웃']==1]['과학교과유능감'].iloc[0])\n",
    "plt.show()"
   ]
  },
  {
   "cell_type": "code",
   "execution_count": 188,
   "metadata": {},
   "outputs": [
    {
     "data": {
      "image/png": "[encoded data removed]",
      "text/plain": [
       "<Figure size 432x288 with 1 Axes>"
      ]
     },
     "metadata": {
      "needs_background": "light"
     },
     "output_type": "display_data"
    }
   ],
   "source": [
    "plt.boxplot(list(DSHS['과학교사선호도']))\n",
    "plt.scatter(1, DSHS[DSHS['번아웃']==1]['과학교사선호도'].iloc[0])\n",
    "plt.show()"
   ]
  },
  {
   "cell_type": "code",
   "execution_count": 189,
   "metadata": {},
   "outputs": [
    {
     "data": {
      "image/png": "[encoded data removed]",
      "text/plain": [
       "<Figure size 432x288 with 1 Axes>"
      ]
     },
     "metadata": {
      "needs_background": "light"
     },
     "output_type": "display_data"
    }
   ],
   "source": [
    "plt.boxplot(list(DSHS['실험선호']))\n",
    "plt.scatter(1, DSHS[DSHS['번아웃']==1]['실험선호'].iloc[0])\n",
    "plt.show()"
   ]
  },
  {
   "attachments": {},
   "cell_type": "markdown",
   "metadata": {},
   "source": [
    "# 가설 2. 계획성과 독립성이 크지만 스스로의 통제가 부족하여 스트레스를 받았을 것임"
   ]
  },
  {
   "cell_type": "code",
   "execution_count": 190,
   "metadata": {},
   "outputs": [
    {
     "data": {
      "text/plain": [
       "['번아웃',\n",
       " 'gpa',\n",
       " '수직개인',\n",
       " '수평개인',\n",
       " '수직공동체',\n",
       " '수평공동체',\n",
       " '자기능력',\n",
       " '사회헌신',\n",
       " '인간관계',\n",
       " '경제우선',\n",
       " '사회인식',\n",
       " '안정추구',\n",
       " '창업효능감',\n",
       " '성실성',\n",
       " '자존감',\n",
       " '개방성',\n",
       " '타인이해',\n",
       " '공동체의식',\n",
       " '불안',\n",
       " '통제미흡',\n",
       " '능력발휘',\n",
       " '자율성',\n",
       " '보수',\n",
       " '안정성',\n",
       " '사회적인정',\n",
       " '사회봉사',\n",
       " '자기계발',\n",
       " '창의성',\n",
       " '신체운동능력',\n",
       " '손재능',\n",
       " '공간지각력',\n",
       " '음악능력',\n",
       " '창의력',\n",
       " '언어능력',\n",
       " '수리논리력',\n",
       " '자기성찰능력',\n",
       " '대인관계능력',\n",
       " '자연친화력',\n",
       " '예술시각능력',\n",
       " '자기관리능력',\n",
       " 'R유형_실재형',\n",
       " 'I유형.탐구형',\n",
       " 'A유형_예술형',\n",
       " 'S유형_사회형',\n",
       " 'E유형_기업형',\n",
       " 'C유형_관습형',\n",
       " '기계기술',\n",
       " '사회안전',\n",
       " '농림환경',\n",
       " '운동',\n",
       " '이학공학연구',\n",
       " '인문사회연구',\n",
       " '음악',\n",
       " '미술',\n",
       " '문학',\n",
       " '방송영상',\n",
       " '교육',\n",
       " '사회복지서비스',\n",
       " '관리경영',\n",
       " '사회언론',\n",
       " '영업판매',\n",
       " '사무행정',\n",
       " '세무회계',\n",
       " '과학분야_전문직',\n",
       " '과학분야_숙련직',\n",
       " '공학분야_전문직',\n",
       " '공학분야_숙련직',\n",
       " '소비자경제분야',\n",
       " '농업_천연자원분야',\n",
       " '경영분야_전문직',\n",
       " '경영분야_숙련직',\n",
       " '사무직',\n",
       " '언론직',\n",
       " '예술분야_전문직',\n",
       " '예술분야_숙련직',\n",
       " '서비스분야_전문직',\n",
       " '서비스분야_숙련직',\n",
       " '전산_정보통신분야',\n",
       " '컴퓨터응용분야',\n",
       " '계획성',\n",
       " '직업태도',\n",
       " '독립성',\n",
       " '자기이해',\n",
       " '정보탐색',\n",
       " '합리적의사결정',\n",
       " '희망직업지식',\n",
       " '진로탐색준비행동',\n",
       " '진로결정정도',\n",
       " '심층적전략',\n",
       " '능력자아',\n",
       " '기대',\n",
       " '능력목표지향',\n",
       " '벌점',\n",
       " '물리사교육시간',\n",
       " '물리사교육비',\n",
       " '물리누적사교육',\n",
       " '과학학습선호',\n",
       " '과학진로선호',\n",
       " '과학진로가치',\n",
       " '과학진로정보필요',\n",
       " '과학내용흥미',\n",
       " '교과가치노력',\n",
       " '과학교과유능감',\n",
       " '과학교사선호도',\n",
       " '창의적사고역량',\n",
       " '의사소통역량',\n",
       " '공동체역량',\n",
       " '비판적사고역량',\n",
       " '성별',\n",
       " '온라인경험',\n",
       " '질문습관',\n",
       " '토론학습',\n",
       " '실험선호',\n",
       " '혼자학습',\n",
       " '반복학습',\n",
       " '국어질문',\n",
       " '국어발표',\n",
       " '국어논리적',\n",
       " '국어콘텐츠',\n",
       " '국어학생활동',\n",
       " '영어질문',\n",
       " '영어발표',\n",
       " '영어논리적',\n",
       " '영어콘텐츠',\n",
       " '영어학생활동',\n",
       " '수학질문',\n",
       " '수학발표',\n",
       " '수학논리적',\n",
       " '수학콘텐츠',\n",
       " '수학학생활동',\n",
       " '물리질문',\n",
       " '물리발표',\n",
       " '물리논리적',\n",
       " '물리콘텐츠',\n",
       " '물리학생활동',\n",
       " '화학질문',\n",
       " '화학발표',\n",
       " '화학논리적',\n",
       " '화학콘텐츠',\n",
       " '화학학생활동',\n",
       " '생물질문',\n",
       " '생물발표',\n",
       " '생물논리적',\n",
       " '생물콘텐츠',\n",
       " '생물학생활동',\n",
       " '순위국어',\n",
       " '순위영어',\n",
       " '순위수학',\n",
       " '순위물리',\n",
       " '순위화학',\n",
       " '순위생물',\n",
       " '평균비행시간',\n",
       " '머신러닝시간',\n",
       " '연습시간',\n",
       " '노력시간']"
      ]
     },
     "execution_count": 190,
     "metadata": {},
     "output_type": "execute_result"
    }
   ],
   "source": [
    "list(DSHS.columns)"
   ]
  },
  {
   "cell_type": "code",
   "execution_count": 195,
   "metadata": {},
   "outputs": [],
   "source": [
    "np.warnings.filterwarnings('ignore')"
   ]
  },
  {
   "cell_type": "code",
   "execution_count": 196,
   "metadata": {},
   "outputs": [
    {
     "data": {
      "image/png": "[encoded data removed]",
      "text/plain": [
       "<Figure size 432x288 with 1 Axes>"
      ]
     },
     "metadata": {
      "needs_background": "light"
     },
     "output_type": "display_data"
    }
   ],
   "source": [
    "plt.boxplot(list(DSHS['안정추구']))\n",
    "plt.scatter(1, DSHS[DSHS['번아웃']==1]['안정추구'].iloc[0])\n",
    "plt.show()"
   ]
  },
  {
   "cell_type": "code",
   "execution_count": 233,
   "metadata": {},
   "outputs": [
    {
     "data": {
      "text/html": [
       "<div>\n",
       "<style scoped>\n",
       "    .dataframe tbody tr th:only-of-type {\n",
       "        vertical-align: middle;\n",
       "    }\n",
       "\n",
       "    .dataframe tbody tr th {\n",
       "        vertical-align: top;\n",
       "    }\n",
       "\n",
       "    .dataframe thead th {\n",
       "        text-align: right;\n",
       "    }\n",
       "</style>\n",
       "<table border=\"1\" class=\"dataframe\">\n",
       "  <thead>\n",
       "    <tr style=\"text-align: right;\">\n",
       "      <th></th>\n",
       "      <th>안정추구</th>\n",
       "    </tr>\n",
       "  </thead>\n",
       "  <tbody>\n",
       "    <tr>\n",
       "      <th>count</th>\n",
       "      <td>86.000000</td>\n",
       "    </tr>\n",
       "    <tr>\n",
       "      <th>mean</th>\n",
       "      <td>3.600775</td>\n",
       "    </tr>\n",
       "    <tr>\n",
       "      <th>std</th>\n",
       "      <td>0.702600</td>\n",
       "    </tr>\n",
       "    <tr>\n",
       "      <th>min</th>\n",
       "      <td>2.000000</td>\n",
       "    </tr>\n",
       "    <tr>\n",
       "      <th>25%</th>\n",
       "      <td>3.083333</td>\n",
       "    </tr>\n",
       "    <tr>\n",
       "      <th>50%</th>\n",
       "      <td>3.666667</td>\n",
       "    </tr>\n",
       "    <tr>\n",
       "      <th>75%</th>\n",
       "      <td>4.000000</td>\n",
       "    </tr>\n",
       "    <tr>\n",
       "      <th>max</th>\n",
       "      <td>5.000000</td>\n",
       "    </tr>\n",
       "  </tbody>\n",
       "</table>\n",
       "</div>"
      ],
      "text/plain": [
       "            안정추구\n",
       "count  86.000000\n",
       "mean    3.600775\n",
       "std     0.702600\n",
       "min     2.000000\n",
       "25%     3.083333\n",
       "50%     3.666667\n",
       "75%     4.000000\n",
       "max     5.000000"
      ]
     },
     "metadata": {},
     "output_type": "display_data"
    },
    {
     "name": "stdout",
     "output_type": "stream",
     "text": [
      "[2.0, 2.333333333, 2.333333333, 2.666666667, 2.666666667, 2.666666667, 3.0, 3.0, 3.0, 3.0, 3.0, 3.0, 3.0, 3.0, 3.333333333, 3.333333333, 3.333333333, 3.333333333, 3.333333333, 3.333333333, 3.333333333, 3.666666667, 3.666666667, 3.666666667, 3.666666667, 4.0, 4.0, 4.0, 4.0, 4.0, 4.0, 4.0, 4.0, 4.0, 4.0, 4.0, 4.0, 4.333333333, 4.333333333, 4.666666667, 4.666666667, 4.666666667, 5.0, nan, 2.0, 2.333333333, 2.333333333, 2.666666667, 2.666666667, 3.0, 3.0, 3.0, 3.333333333, 3.333333333, 3.333333333, 3.333333333, 3.333333333, 3.333333333, 3.333333333, 3.333333333, 3.333333333, 3.333333333, 3.333333333, 3.333333333, 3.666666667, 3.666666667, 3.666666667, 3.666666667, 3.666666667, 3.666666667, 4.0, 4.0, 4.0, 4.0, 4.0, 4.0, 4.0, 4.333333333, 4.333333333, 4.333333333, 4.666666667, 4.666666667, 4.666666667, 4.666666667, 4.666666667, 5.0, 5.0, nan]\n",
      "\n",
      "안정추구    2\n",
      "dtype: int64\n"
     ]
    },
    {
     "data": {
      "text/plain": [
       "4.0"
      ]
     },
     "execution_count": 233,
     "metadata": {},
     "output_type": "execute_result"
    }
   ],
   "source": [
    "display(DSHS[['안정추구']].describe())\n",
    "\n",
    "print(sorted(list(DSHS['안정추구'])))\n",
    "print()\n",
    "\n",
    "print(DSHS[['안정추구']].isna().sum())\n",
    "\n",
    "DSHS[DSHS['번아웃']==1]['안정추구'].iloc[0]"
   ]
  },
  {
   "cell_type": "code",
   "execution_count": 197,
   "metadata": {},
   "outputs": [
    {
     "data": {
      "image/png": "[encoded data removed]",
      "text/plain": [
       "<Figure size 432x288 with 1 Axes>"
      ]
     },
     "metadata": {
      "needs_background": "light"
     },
     "output_type": "display_data"
    }
   ],
   "source": [
    "plt.boxplot(list(DSHS['성실성']))\n",
    "plt.scatter(1, DSHS[DSHS['번아웃']==1]['성실성'].iloc[0])\n",
    "plt.show()"
   ]
  },
  {
   "cell_type": "code",
   "execution_count": 232,
   "metadata": {},
   "outputs": [
    {
     "data": {
      "text/html": [
       "<div>\n",
       "<style scoped>\n",
       "    .dataframe tbody tr th:only-of-type {\n",
       "        vertical-align: middle;\n",
       "    }\n",
       "\n",
       "    .dataframe tbody tr th {\n",
       "        vertical-align: top;\n",
       "    }\n",
       "\n",
       "    .dataframe thead th {\n",
       "        text-align: right;\n",
       "    }\n",
       "</style>\n",
       "<table border=\"1\" class=\"dataframe\">\n",
       "  <thead>\n",
       "    <tr style=\"text-align: right;\">\n",
       "      <th></th>\n",
       "      <th>성실성</th>\n",
       "    </tr>\n",
       "  </thead>\n",
       "  <tbody>\n",
       "    <tr>\n",
       "      <th>count</th>\n",
       "      <td>87.000000</td>\n",
       "    </tr>\n",
       "    <tr>\n",
       "      <th>mean</th>\n",
       "      <td>2.218391</td>\n",
       "    </tr>\n",
       "    <tr>\n",
       "      <th>std</th>\n",
       "      <td>0.709983</td>\n",
       "    </tr>\n",
       "    <tr>\n",
       "      <th>min</th>\n",
       "      <td>0.500000</td>\n",
       "    </tr>\n",
       "    <tr>\n",
       "      <th>25%</th>\n",
       "      <td>1.750000</td>\n",
       "    </tr>\n",
       "    <tr>\n",
       "      <th>50%</th>\n",
       "      <td>2.500000</td>\n",
       "    </tr>\n",
       "    <tr>\n",
       "      <th>75%</th>\n",
       "      <td>3.000000</td>\n",
       "    </tr>\n",
       "    <tr>\n",
       "      <th>max</th>\n",
       "      <td>3.000000</td>\n",
       "    </tr>\n",
       "  </tbody>\n",
       "</table>\n",
       "</div>"
      ],
      "text/plain": [
       "             성실성\n",
       "count  87.000000\n",
       "mean    2.218391\n",
       "std     0.709983\n",
       "min     0.500000\n",
       "25%     1.750000\n",
       "50%     2.500000\n",
       "75%     3.000000\n",
       "max     3.000000"
      ]
     },
     "metadata": {},
     "output_type": "display_data"
    },
    {
     "name": "stdout",
     "output_type": "stream",
     "text": [
      "[0.5, 1.0, 1.0, 1.0, 1.0, 1.0, 1.0, 1.0, 1.0, 1.0, 1.0, 1.0, 1.0, 1.5, 1.5, 1.5, 1.5, 1.5, 1.5, 1.5, 1.5, 1.5, 2.0, 2.0, 2.0, 2.0, 2.0, 2.0, 2.0, 2.0, 2.0, 2.0, 2.0, 2.0, 2.0, 2.0, 2.0, 2.0, 2.5, 2.5, 2.5, 2.5, 2.5, 2.5, 2.5, 2.5, 2.5, 2.5, 2.5, 2.5, 2.5, 2.5, 3.0, 3.0, nan, 2.5, 2.5, 2.5, 2.5, 2.5, 2.5, 2.5, 2.5, 2.5, 2.5, 3.0, 3.0, 3.0, 3.0, 3.0, 3.0, 3.0, 3.0, 3.0, 3.0, 3.0, 3.0, 3.0, 3.0, 3.0, 3.0, 3.0, 3.0, 3.0, 3.0, 3.0, 3.0, 3.0]\n",
      "\n",
      "성실성    1\n",
      "dtype: int64\n"
     ]
    },
    {
     "data": {
      "text/plain": [
       "2.0"
      ]
     },
     "execution_count": 232,
     "metadata": {},
     "output_type": "execute_result"
    }
   ],
   "source": [
    "display(DSHS[['성실성']].describe())\n",
    "\n",
    "print(sorted(list(DSHS['성실성'])))\n",
    "print()\n",
    "\n",
    "print(DSHS[['성실성']].isna().sum())\n",
    "\n",
    "DSHS[DSHS['번아웃']==1]['성실성'].iloc[0]"
   ]
  },
  {
   "cell_type": "code",
   "execution_count": 198,
   "metadata": {},
   "outputs": [
    {
     "data": {
      "image/png": "[encoded data removed]",
      "text/plain": [
       "<Figure size 432x288 with 1 Axes>"
      ]
     },
     "metadata": {
      "needs_background": "light"
     },
     "output_type": "display_data"
    }
   ],
   "source": [
    "plt.boxplot(list(DSHS['자존감']))\n",
    "plt.scatter(1, DSHS[DSHS['번아웃']==1]['자존감'].iloc[0])\n",
    "plt.show()"
   ]
  },
  {
   "cell_type": "code",
   "execution_count": 231,
   "metadata": {},
   "outputs": [
    {
     "data": {
      "text/html": [
       "<div>\n",
       "<style scoped>\n",
       "    .dataframe tbody tr th:only-of-type {\n",
       "        vertical-align: middle;\n",
       "    }\n",
       "\n",
       "    .dataframe tbody tr th {\n",
       "        vertical-align: top;\n",
       "    }\n",
       "\n",
       "    .dataframe thead th {\n",
       "        text-align: right;\n",
       "    }\n",
       "</style>\n",
       "<table border=\"1\" class=\"dataframe\">\n",
       "  <thead>\n",
       "    <tr style=\"text-align: right;\">\n",
       "      <th></th>\n",
       "      <th>자존감</th>\n",
       "    </tr>\n",
       "  </thead>\n",
       "  <tbody>\n",
       "    <tr>\n",
       "      <th>count</th>\n",
       "      <td>86.000000</td>\n",
       "    </tr>\n",
       "    <tr>\n",
       "      <th>mean</th>\n",
       "      <td>2.414729</td>\n",
       "    </tr>\n",
       "    <tr>\n",
       "      <th>std</th>\n",
       "      <td>0.557623</td>\n",
       "    </tr>\n",
       "    <tr>\n",
       "      <th>min</th>\n",
       "      <td>1.000000</td>\n",
       "    </tr>\n",
       "    <tr>\n",
       "      <th>25%</th>\n",
       "      <td>2.000000</td>\n",
       "    </tr>\n",
       "    <tr>\n",
       "      <th>50%</th>\n",
       "      <td>2.333333</td>\n",
       "    </tr>\n",
       "    <tr>\n",
       "      <th>75%</th>\n",
       "      <td>3.000000</td>\n",
       "    </tr>\n",
       "    <tr>\n",
       "      <th>max</th>\n",
       "      <td>3.000000</td>\n",
       "    </tr>\n",
       "  </tbody>\n",
       "</table>\n",
       "</div>"
      ],
      "text/plain": [
       "             자존감\n",
       "count  86.000000\n",
       "mean    2.414729\n",
       "std     0.557623\n",
       "min     1.000000\n",
       "25%     2.000000\n",
       "50%     2.333333\n",
       "75%     3.000000\n",
       "max     3.000000"
      ]
     },
     "metadata": {},
     "output_type": "display_data"
    },
    {
     "name": "stdout",
     "output_type": "stream",
     "text": [
      "[1.0, 1.0, 1.0, 1.333333333, 1.333333333, 1.6666666669999999, 1.6666666669999999, 1.6666666669999999, 1.6666666669999999, 1.6666666669999999, 1.6666666669999999, 1.6666666669999999, 1.6666666669999999, 2.0, 2.0, 2.0, 2.0, 2.0, 2.0, 2.0, 2.0, 2.0, 2.0, 2.0, 2.0, 2.0, 2.0, 2.0, 2.0, 2.333333333, 2.333333333, 2.333333333, 2.333333333, 2.333333333, 2.333333333, 2.333333333, 2.333333333, 2.333333333, 2.333333333, 2.333333333, 2.333333333, 2.333333333, 2.333333333, 2.666666667, 2.666666667, 2.666666667, 2.666666667, 2.666666667, 2.666666667, 2.666666667, 2.666666667, 3.0, 3.0, 3.0, nan, nan, 2.333333333, 2.666666667, 2.666666667, 2.666666667, 2.666666667, 2.666666667, 3.0, 3.0, 3.0, 3.0, 3.0, 3.0, 3.0, 3.0, 3.0, 3.0, 3.0, 3.0, 3.0, 3.0, 3.0, 3.0, 3.0, 3.0, 3.0, 3.0, 3.0, 3.0, 3.0, 3.0, 3.0, 3.0]\n",
      "\n",
      "자존감    2\n",
      "dtype: int64\n"
     ]
    },
    {
     "data": {
      "text/plain": [
       "2.333333333"
      ]
     },
     "execution_count": 231,
     "metadata": {},
     "output_type": "execute_result"
    }
   ],
   "source": [
    "display(DSHS[['자존감']].describe())\n",
    "\n",
    "print(sorted(list(DSHS['자존감'])))\n",
    "print()\n",
    "\n",
    "print(DSHS[['자존감']].isna().sum())\n",
    "\n",
    "DSHS[DSHS['번아웃']==1]['자존감'].iloc[0]"
   ]
  },
  {
   "cell_type": "code",
   "execution_count": null,
   "metadata": {},
   "outputs": [],
   "source": [
    "display(DSHS[['안정추구']].describe())\n",
    "\n",
    "print(DSHS[['안정추구']].isna().sum())\n",
    "\n",
    "DSHS[DSHS['번아웃']==1]['안정추구'].iloc[0]"
   ]
  },
  {
   "cell_type": "code",
   "execution_count": 199,
   "metadata": {},
   "outputs": [
    {
     "data": {
      "image/png": "[encoded data removed]",
      "text/plain": [
       "<Figure size 432x288 with 1 Axes>"
      ]
     },
     "metadata": {
      "needs_background": "light"
     },
     "output_type": "display_data"
    }
   ],
   "source": [
    "plt.boxplot(list(DSHS['불안']))\n",
    "plt.scatter(1, DSHS[DSHS['번아웃']==1]['불안'].iloc[0])\n",
    "plt.show()"
   ]
  },
  {
   "cell_type": "code",
   "execution_count": 234,
   "metadata": {},
   "outputs": [
    {
     "data": {
      "text/html": [
       "<div>\n",
       "<style scoped>\n",
       "    .dataframe tbody tr th:only-of-type {\n",
       "        vertical-align: middle;\n",
       "    }\n",
       "\n",
       "    .dataframe tbody tr th {\n",
       "        vertical-align: top;\n",
       "    }\n",
       "\n",
       "    .dataframe thead th {\n",
       "        text-align: right;\n",
       "    }\n",
       "</style>\n",
       "<table border=\"1\" class=\"dataframe\">\n",
       "  <thead>\n",
       "    <tr style=\"text-align: right;\">\n",
       "      <th></th>\n",
       "      <th>불안</th>\n",
       "    </tr>\n",
       "  </thead>\n",
       "  <tbody>\n",
       "    <tr>\n",
       "      <th>count</th>\n",
       "      <td>87.000000</td>\n",
       "    </tr>\n",
       "    <tr>\n",
       "      <th>mean</th>\n",
       "      <td>0.908046</td>\n",
       "    </tr>\n",
       "    <tr>\n",
       "      <th>std</th>\n",
       "      <td>0.779567</td>\n",
       "    </tr>\n",
       "    <tr>\n",
       "      <th>min</th>\n",
       "      <td>0.000000</td>\n",
       "    </tr>\n",
       "    <tr>\n",
       "      <th>25%</th>\n",
       "      <td>0.250000</td>\n",
       "    </tr>\n",
       "    <tr>\n",
       "      <th>50%</th>\n",
       "      <td>1.000000</td>\n",
       "    </tr>\n",
       "    <tr>\n",
       "      <th>75%</th>\n",
       "      <td>1.500000</td>\n",
       "    </tr>\n",
       "    <tr>\n",
       "      <th>max</th>\n",
       "      <td>3.000000</td>\n",
       "    </tr>\n",
       "  </tbody>\n",
       "</table>\n",
       "</div>"
      ],
      "text/plain": [
       "              불안\n",
       "count  87.000000\n",
       "mean    0.908046\n",
       "std     0.779567\n",
       "min     0.000000\n",
       "25%     0.250000\n",
       "50%     1.000000\n",
       "75%     1.500000\n",
       "max     3.000000"
      ]
     },
     "metadata": {},
     "output_type": "display_data"
    },
    {
     "name": "stdout",
     "output_type": "stream",
     "text": [
      "[0.0, 0.0, 0.0, 0.0, 0.0, 0.0, 0.0, 0.0, 0.0, 0.0, 0.0, 0.0, 0.0, 0.0, 0.0, 0.0, 0.0, 0.0, 0.0, 0.0, 0.0, 0.0, 0.5, 0.5, 0.5, 0.5, 0.5, 0.5, 0.5, 0.5, 0.5, 0.5, 0.5, 0.5, 0.5, 0.5, 0.5, 0.5, 0.5, 1.0, 1.0, 1.0, 1.0, 1.0, 1.0, 1.0, 1.0, 1.0, 1.0, 1.0, 1.0, 1.0, 1.0, 1.5, 1.5, 1.5, 1.5, 1.5, 1.5, 1.5, 1.5, 2.0, 2.0, 2.0, 2.0, 2.0, 2.0, 2.5, 3.0, nan, 0.5, 0.5, 1.0, 1.0, 1.0, 1.0, 1.0, 1.5, 1.5, 1.5, 1.5, 1.5, 1.5, 2.0, 2.0, 2.5, 2.5, 3.0]\n",
      "\n",
      "불안    1\n",
      "dtype: int64\n"
     ]
    },
    {
     "data": {
      "text/plain": [
       "3.0"
      ]
     },
     "execution_count": 234,
     "metadata": {},
     "output_type": "execute_result"
    }
   ],
   "source": [
    "display(DSHS[['불안']].describe())\n",
    "\n",
    "print(sorted(list(DSHS['불안'])))\n",
    "print()\n",
    "\n",
    "print(DSHS[['불안']].isna().sum())\n",
    "\n",
    "DSHS[DSHS['번아웃']==1]['불안'].iloc[0]"
   ]
  },
  {
   "cell_type": "code",
   "execution_count": 200,
   "metadata": {},
   "outputs": [
    {
     "data": {
      "image/png": "[encoded data removed]",
      "text/plain": [
       "<Figure size 432x288 with 1 Axes>"
      ]
     },
     "metadata": {
      "needs_background": "light"
     },
     "output_type": "display_data"
    }
   ],
   "source": [
    "plt.boxplot(list(DSHS['통제미흡']))\n",
    "plt.scatter(1, DSHS[DSHS['번아웃']==1]['통제미흡'].iloc[0])\n",
    "plt.show()"
   ]
  },
  {
   "cell_type": "code",
   "execution_count": 235,
   "metadata": {},
   "outputs": [
    {
     "data": {
      "text/html": [
       "<div>\n",
       "<style scoped>\n",
       "    .dataframe tbody tr th:only-of-type {\n",
       "        vertical-align: middle;\n",
       "    }\n",
       "\n",
       "    .dataframe tbody tr th {\n",
       "        vertical-align: top;\n",
       "    }\n",
       "\n",
       "    .dataframe thead th {\n",
       "        text-align: right;\n",
       "    }\n",
       "</style>\n",
       "<table border=\"1\" class=\"dataframe\">\n",
       "  <thead>\n",
       "    <tr style=\"text-align: right;\">\n",
       "      <th></th>\n",
       "      <th>통제미흡</th>\n",
       "    </tr>\n",
       "  </thead>\n",
       "  <tbody>\n",
       "    <tr>\n",
       "      <th>count</th>\n",
       "      <td>87.000000</td>\n",
       "    </tr>\n",
       "    <tr>\n",
       "      <th>mean</th>\n",
       "      <td>0.513410</td>\n",
       "    </tr>\n",
       "    <tr>\n",
       "      <th>std</th>\n",
       "      <td>0.556392</td>\n",
       "    </tr>\n",
       "    <tr>\n",
       "      <th>min</th>\n",
       "      <td>0.000000</td>\n",
       "    </tr>\n",
       "    <tr>\n",
       "      <th>25%</th>\n",
       "      <td>0.000000</td>\n",
       "    </tr>\n",
       "    <tr>\n",
       "      <th>50%</th>\n",
       "      <td>0.333333</td>\n",
       "    </tr>\n",
       "    <tr>\n",
       "      <th>75%</th>\n",
       "      <td>1.000000</td>\n",
       "    </tr>\n",
       "    <tr>\n",
       "      <th>max</th>\n",
       "      <td>2.666667</td>\n",
       "    </tr>\n",
       "  </tbody>\n",
       "</table>\n",
       "</div>"
      ],
      "text/plain": [
       "            통제미흡\n",
       "count  87.000000\n",
       "mean    0.513410\n",
       "std     0.556392\n",
       "min     0.000000\n",
       "25%     0.000000\n",
       "50%     0.333333\n",
       "75%     1.000000\n",
       "max     2.666667"
      ]
     },
     "metadata": {},
     "output_type": "display_data"
    },
    {
     "name": "stdout",
     "output_type": "stream",
     "text": [
      "[0.0, 0.0, 0.0, 0.0, 0.0, 0.0, 0.0, 0.0, 0.0, 0.0, 0.0, 0.0, 0.0, 0.0, 0.0, 0.0, 0.0, 0.0, 0.0, 0.0, 0.0, 0.0, 0.0, 0.0, 0.0, 0.0, 0.0, 0.0, 0.0, 0.0, 0.333333333, 0.333333333, 0.333333333, 0.333333333, 0.333333333, 0.333333333, 0.333333333, 0.333333333, 0.333333333, 0.333333333, 0.333333333, 0.333333333, 0.333333333, 0.333333333, 0.333333333, 0.333333333, 0.333333333, 0.333333333, 0.333333333, 0.333333333, 0.333333333, 0.666666667, 0.666666667, 0.666666667, 0.666666667, 0.666666667, 0.666666667, 0.666666667, 1.0, 1.0, 1.0, 1.0, 1.0, 1.333333333, 1.333333333, 1.333333333, 1.333333333, nan, 0.333333333, 0.333333333, 0.666666667, 0.666666667, 0.666666667, 0.666666667, 1.0, 1.0, 1.0, 1.0, 1.0, 1.0, 1.333333333, 1.333333333, 1.333333333, 1.333333333, 1.333333333, 2.0, 2.0, 2.666666667]\n",
      "\n",
      "통제미흡    1\n",
      "dtype: int64\n"
     ]
    },
    {
     "data": {
      "text/plain": [
       "2.0"
      ]
     },
     "execution_count": 235,
     "metadata": {},
     "output_type": "execute_result"
    }
   ],
   "source": [
    "display(DSHS[['통제미흡']].describe())\n",
    "\n",
    "print(sorted(list(DSHS['통제미흡'])))\n",
    "print()\n",
    "\n",
    "print(DSHS[['통제미흡']].isna().sum())\n",
    "\n",
    "DSHS[DSHS['번아웃']==1]['통제미흡'].iloc[0]"
   ]
  },
  {
   "cell_type": "code",
   "execution_count": 203,
   "metadata": {},
   "outputs": [
    {
     "data": {
      "image/png": "[encoded data removed]",
      "text/plain": [
       "<Figure size 432x288 with 1 Axes>"
      ]
     },
     "metadata": {
      "needs_background": "light"
     },
     "output_type": "display_data"
    }
   ],
   "source": [
    "plt.boxplot(list(DSHS['능력발휘']))\n",
    "plt.scatter(1, DSHS[DSHS['번아웃']==1]['능력발휘'].iloc[0])\n",
    "plt.show()"
   ]
  },
  {
   "cell_type": "code",
   "execution_count": 204,
   "metadata": {},
   "outputs": [
    {
     "data": {
      "image/png": "[encoded data removed]",
      "text/plain": [
       "<Figure size 432x288 with 1 Axes>"
      ]
     },
     "metadata": {
      "needs_background": "light"
     },
     "output_type": "display_data"
    }
   ],
   "source": [
    "plt.boxplot(list(DSHS['자율성']))\n",
    "plt.scatter(1, DSHS[DSHS['번아웃']==1]['자율성'].iloc[0])\n",
    "plt.show()"
   ]
  },
  {
   "cell_type": "code",
   "execution_count": 205,
   "metadata": {},
   "outputs": [
    {
     "data": {
      "image/png": "[encoded data removed]",
      "text/plain": [
       "<Figure size 432x288 with 1 Axes>"
      ]
     },
     "metadata": {
      "needs_background": "light"
     },
     "output_type": "display_data"
    }
   ],
   "source": [
    "plt.boxplot(list(DSHS['안정성']))\n",
    "plt.scatter(1, DSHS[DSHS['번아웃']==1]['안정성'].iloc[0])\n",
    "plt.show()"
   ]
  },
  {
   "cell_type": "code",
   "execution_count": 206,
   "metadata": {},
   "outputs": [
    {
     "data": {
      "image/png": "[encoded data removed]",
      "text/plain": [
       "<Figure size 432x288 with 1 Axes>"
      ]
     },
     "metadata": {
      "needs_background": "light"
     },
     "output_type": "display_data"
    }
   ],
   "source": [
    "plt.boxplot(list(DSHS['사회적인정']))\n",
    "plt.scatter(1, DSHS[DSHS['번아웃']==1]['사회적인정'].iloc[0])\n",
    "plt.show()"
   ]
  },
  {
   "cell_type": "code",
   "execution_count": 207,
   "metadata": {},
   "outputs": [
    {
     "data": {
      "image/png": "[encoded data removed]",
      "text/plain": [
       "<Figure size 432x288 with 1 Axes>"
      ]
     },
     "metadata": {
      "needs_background": "light"
     },
     "output_type": "display_data"
    }
   ],
   "source": [
    "plt.boxplot(list(DSHS['계획성']))\n",
    "plt.scatter(1, DSHS[DSHS['번아웃']==1]['계획성'].iloc[0])\n",
    "plt.show()"
   ]
  },
  {
   "cell_type": "code",
   "execution_count": 208,
   "metadata": {},
   "outputs": [
    {
     "data": {
      "image/png": "[encoded data removed]",
      "text/plain": [
       "<Figure size 432x288 with 1 Axes>"
      ]
     },
     "metadata": {
      "needs_background": "light"
     },
     "output_type": "display_data"
    }
   ],
   "source": [
    "plt.boxplot(list(DSHS['독립성']))\n",
    "plt.scatter(1, DSHS[DSHS['번아웃']==1]['독립성'].iloc[0])\n",
    "plt.show()"
   ]
  },
  {
   "attachments": {},
   "cell_type": "markdown",
   "metadata": {},
   "source": [
    "# 가설 3. 혼자서 무언가를 하는 것을 선호하는 성격으로, 약간은 이기적인 성격을 보여 친구들과 원만한 관계를 형성하지 못하였을수도 있음\n",
    "--> 가설 2와 연관, 가설 2와 다른점은 사회적 관계 추론 및 파악"
   ]
  },
  {
   "cell_type": "code",
   "execution_count": 209,
   "metadata": {},
   "outputs": [
    {
     "data": {
      "text/plain": [
       "['번아웃',\n",
       " 'gpa',\n",
       " '수직개인',\n",
       " '수평개인',\n",
       " '수직공동체',\n",
       " '수평공동체',\n",
       " '자기능력',\n",
       " '사회헌신',\n",
       " '인간관계',\n",
       " '경제우선',\n",
       " '사회인식',\n",
       " '안정추구',\n",
       " '창업효능감',\n",
       " '성실성',\n",
       " '자존감',\n",
       " '개방성',\n",
       " '타인이해',\n",
       " '공동체의식',\n",
       " '불안',\n",
       " '통제미흡',\n",
       " '능력발휘',\n",
       " '자율성',\n",
       " '보수',\n",
       " '안정성',\n",
       " '사회적인정',\n",
       " '사회봉사',\n",
       " '자기계발',\n",
       " '창의성',\n",
       " '신체운동능력',\n",
       " '손재능',\n",
       " '공간지각력',\n",
       " '음악능력',\n",
       " '창의력',\n",
       " '언어능력',\n",
       " '수리논리력',\n",
       " '자기성찰능력',\n",
       " '대인관계능력',\n",
       " '자연친화력',\n",
       " '예술시각능력',\n",
       " '자기관리능력',\n",
       " 'R유형_실재형',\n",
       " 'I유형.탐구형',\n",
       " 'A유형_예술형',\n",
       " 'S유형_사회형',\n",
       " 'E유형_기업형',\n",
       " 'C유형_관습형',\n",
       " '기계기술',\n",
       " '사회안전',\n",
       " '농림환경',\n",
       " '운동',\n",
       " '이학공학연구',\n",
       " '인문사회연구',\n",
       " '음악',\n",
       " '미술',\n",
       " '문학',\n",
       " '방송영상',\n",
       " '교육',\n",
       " '사회복지서비스',\n",
       " '관리경영',\n",
       " '사회언론',\n",
       " '영업판매',\n",
       " '사무행정',\n",
       " '세무회계',\n",
       " '과학분야_전문직',\n",
       " '과학분야_숙련직',\n",
       " '공학분야_전문직',\n",
       " '공학분야_숙련직',\n",
       " '소비자경제분야',\n",
       " '농업_천연자원분야',\n",
       " '경영분야_전문직',\n",
       " '경영분야_숙련직',\n",
       " '사무직',\n",
       " '언론직',\n",
       " '예술분야_전문직',\n",
       " '예술분야_숙련직',\n",
       " '서비스분야_전문직',\n",
       " '서비스분야_숙련직',\n",
       " '전산_정보통신분야',\n",
       " '컴퓨터응용분야',\n",
       " '계획성',\n",
       " '직업태도',\n",
       " '독립성',\n",
       " '자기이해',\n",
       " '정보탐색',\n",
       " '합리적의사결정',\n",
       " '희망직업지식',\n",
       " '진로탐색준비행동',\n",
       " '진로결정정도',\n",
       " '심층적전략',\n",
       " '능력자아',\n",
       " '기대',\n",
       " '능력목표지향',\n",
       " '벌점',\n",
       " '물리사교육시간',\n",
       " '물리사교육비',\n",
       " '물리누적사교육',\n",
       " '과학학습선호',\n",
       " '과학진로선호',\n",
       " '과학진로가치',\n",
       " '과학진로정보필요',\n",
       " '과학내용흥미',\n",
       " '교과가치노력',\n",
       " '과학교과유능감',\n",
       " '과학교사선호도',\n",
       " '창의적사고역량',\n",
       " '의사소통역량',\n",
       " '공동체역량',\n",
       " '비판적사고역량',\n",
       " '성별',\n",
       " '온라인경험',\n",
       " '질문습관',\n",
       " '토론학습',\n",
       " '실험선호',\n",
       " '혼자학습',\n",
       " '반복학습',\n",
       " '국어질문',\n",
       " '국어발표',\n",
       " '국어논리적',\n",
       " '국어콘텐츠',\n",
       " '국어학생활동',\n",
       " '영어질문',\n",
       " '영어발표',\n",
       " '영어논리적',\n",
       " '영어콘텐츠',\n",
       " '영어학생활동',\n",
       " '수학질문',\n",
       " '수학발표',\n",
       " '수학논리적',\n",
       " '수학콘텐츠',\n",
       " '수학학생활동',\n",
       " '물리질문',\n",
       " '물리발표',\n",
       " '물리논리적',\n",
       " '물리콘텐츠',\n",
       " '물리학생활동',\n",
       " '화학질문',\n",
       " '화학발표',\n",
       " '화학논리적',\n",
       " '화학콘텐츠',\n",
       " '화학학생활동',\n",
       " '생물질문',\n",
       " '생물발표',\n",
       " '생물논리적',\n",
       " '생물콘텐츠',\n",
       " '생물학생활동',\n",
       " '순위국어',\n",
       " '순위영어',\n",
       " '순위수학',\n",
       " '순위물리',\n",
       " '순위화학',\n",
       " '순위생물',\n",
       " '평균비행시간',\n",
       " '머신러닝시간',\n",
       " '연습시간',\n",
       " '노력시간']"
      ]
     },
     "execution_count": 209,
     "metadata": {},
     "output_type": "execute_result"
    }
   ],
   "source": [
    "list(DSHS.columns)"
   ]
  },
  {
   "cell_type": "code",
   "execution_count": 210,
   "metadata": {},
   "outputs": [
    {
     "data": {
      "image/png": "[encoded data removed]",
      "text/plain": [
       "<Figure size 432x288 with 1 Axes>"
      ]
     },
     "metadata": {
      "needs_background": "light"
     },
     "output_type": "display_data"
    }
   ],
   "source": [
    "plt.boxplot(list(DSHS['수직개인']))\n",
    "plt.scatter(1, DSHS[DSHS['번아웃']==1]['수직개인'].iloc[0])\n",
    "plt.show()"
   ]
  },
  {
   "cell_type": "code",
   "execution_count": 236,
   "metadata": {},
   "outputs": [
    {
     "data": {
      "text/html": [
       "<div>\n",
       "<style scoped>\n",
       "    .dataframe tbody tr th:only-of-type {\n",
       "        vertical-align: middle;\n",
       "    }\n",
       "\n",
       "    .dataframe tbody tr th {\n",
       "        vertical-align: top;\n",
       "    }\n",
       "\n",
       "    .dataframe thead th {\n",
       "        text-align: right;\n",
       "    }\n",
       "</style>\n",
       "<table border=\"1\" class=\"dataframe\">\n",
       "  <thead>\n",
       "    <tr style=\"text-align: right;\">\n",
       "      <th></th>\n",
       "      <th>수직개인</th>\n",
       "    </tr>\n",
       "  </thead>\n",
       "  <tbody>\n",
       "    <tr>\n",
       "      <th>count</th>\n",
       "      <td>86.000000</td>\n",
       "    </tr>\n",
       "    <tr>\n",
       "      <th>mean</th>\n",
       "      <td>3.061047</td>\n",
       "    </tr>\n",
       "    <tr>\n",
       "      <th>std</th>\n",
       "      <td>0.536445</td>\n",
       "    </tr>\n",
       "    <tr>\n",
       "      <th>min</th>\n",
       "      <td>2.000000</td>\n",
       "    </tr>\n",
       "    <tr>\n",
       "      <th>25%</th>\n",
       "      <td>2.656250</td>\n",
       "    </tr>\n",
       "    <tr>\n",
       "      <th>50%</th>\n",
       "      <td>3.000000</td>\n",
       "    </tr>\n",
       "    <tr>\n",
       "      <th>75%</th>\n",
       "      <td>3.375000</td>\n",
       "    </tr>\n",
       "    <tr>\n",
       "      <th>max</th>\n",
       "      <td>4.500000</td>\n",
       "    </tr>\n",
       "  </tbody>\n",
       "</table>\n",
       "</div>"
      ],
      "text/plain": [
       "            수직개인\n",
       "count  86.000000\n",
       "mean    3.061047\n",
       "std     0.536445\n",
       "min     2.000000\n",
       "25%     2.656250\n",
       "50%     3.000000\n",
       "75%     3.375000\n",
       "max     4.500000"
      ]
     },
     "metadata": {},
     "output_type": "display_data"
    },
    {
     "name": "stdout",
     "output_type": "stream",
     "text": [
      "[2.0, 2.0, 2.125, 2.25, 2.5, 2.5, 2.625, 2.625, 2.625, 2.625, 2.625, 2.625, 2.75, 2.875, 2.875, 2.875, 2.875, 2.875, 2.875, 2.875, 3.0, 3.0, 3.0, 3.125, 3.25, 3.375, 3.375, 3.375, 3.375, 3.625, 3.625, 3.625, 3.625, 3.625, 3.75, 3.75, 3.75, 3.75, 3.75, 3.75, 3.875, 3.875, 4.25, nan, 2.0, 2.125, 2.125, 2.375, 2.375, 2.5, 2.5, 2.5, 2.625, 2.625, 2.75, 2.75, 2.875, 2.875, 2.875, 2.875, 2.875, 2.875, 3.0, 3.0, 3.0, 3.0, 3.0, 3.0, 3.0, 3.125, 3.125, 3.125, 3.125, 3.125, 3.125, 3.25, 3.25, 3.375, 3.375, 3.375, 3.5, 3.5, 3.625, 3.875, 3.875, 4.0, 4.5, nan]\n",
      "\n",
      "수직개인    2\n",
      "dtype: int64\n"
     ]
    },
    {
     "data": {
      "text/plain": [
       "2.375"
      ]
     },
     "execution_count": 236,
     "metadata": {},
     "output_type": "execute_result"
    }
   ],
   "source": [
    "display(DSHS[['수직개인']].describe())\n",
    "\n",
    "print(sorted(list(DSHS['수직개인'])))\n",
    "print()\n",
    "\n",
    "print(DSHS[['수직개인']].isna().sum())\n",
    "\n",
    "DSHS[DSHS['번아웃']==1]['수직개인'].iloc[0]"
   ]
  },
  {
   "cell_type": "code",
   "execution_count": 211,
   "metadata": {},
   "outputs": [
    {
     "data": {
      "image/png": "[encoded data removed]",
      "text/plain": [
       "<Figure size 432x288 with 1 Axes>"
      ]
     },
     "metadata": {
      "needs_background": "light"
     },
     "output_type": "display_data"
    }
   ],
   "source": [
    "plt.boxplot(list(DSHS['수평개인']))\n",
    "plt.scatter(1, DSHS[DSHS['번아웃']==1]['수평개인'].iloc[0])\n",
    "plt.show()"
   ]
  },
  {
   "cell_type": "code",
   "execution_count": 237,
   "metadata": {},
   "outputs": [
    {
     "data": {
      "text/html": [
       "<div>\n",
       "<style scoped>\n",
       "    .dataframe tbody tr th:only-of-type {\n",
       "        vertical-align: middle;\n",
       "    }\n",
       "\n",
       "    .dataframe tbody tr th {\n",
       "        vertical-align: top;\n",
       "    }\n",
       "\n",
       "    .dataframe thead th {\n",
       "        text-align: right;\n",
       "    }\n",
       "</style>\n",
       "<table border=\"1\" class=\"dataframe\">\n",
       "  <thead>\n",
       "    <tr style=\"text-align: right;\">\n",
       "      <th></th>\n",
       "      <th>수평개인</th>\n",
       "    </tr>\n",
       "  </thead>\n",
       "  <tbody>\n",
       "    <tr>\n",
       "      <th>count</th>\n",
       "      <td>86.000000</td>\n",
       "    </tr>\n",
       "    <tr>\n",
       "      <th>mean</th>\n",
       "      <td>4.008721</td>\n",
       "    </tr>\n",
       "    <tr>\n",
       "      <th>std</th>\n",
       "      <td>0.535432</td>\n",
       "    </tr>\n",
       "    <tr>\n",
       "      <th>min</th>\n",
       "      <td>2.375000</td>\n",
       "    </tr>\n",
       "    <tr>\n",
       "      <th>25%</th>\n",
       "      <td>3.625000</td>\n",
       "    </tr>\n",
       "    <tr>\n",
       "      <th>50%</th>\n",
       "      <td>4.000000</td>\n",
       "    </tr>\n",
       "    <tr>\n",
       "      <th>75%</th>\n",
       "      <td>4.500000</td>\n",
       "    </tr>\n",
       "    <tr>\n",
       "      <th>max</th>\n",
       "      <td>5.000000</td>\n",
       "    </tr>\n",
       "  </tbody>\n",
       "</table>\n",
       "</div>"
      ],
      "text/plain": [
       "            수평개인\n",
       "count  86.000000\n",
       "mean    4.008721\n",
       "std     0.535432\n",
       "min     2.375000\n",
       "25%     3.625000\n",
       "50%     4.000000\n",
       "75%     4.500000\n",
       "max     5.000000"
      ]
     },
     "metadata": {},
     "output_type": "display_data"
    },
    {
     "name": "stdout",
     "output_type": "stream",
     "text": [
      "[3.0, 3.25, 3.25, 3.375, 3.375, 3.5, 3.5, 3.5, 3.625, 3.625, 3.625, 3.75, 3.75, 3.75, 3.875, 3.875, 3.875, 3.875, 4.0, 4.0, 4.0, 4.0, 4.125, 4.125, 4.125, 4.125, 4.125, 4.125, 4.125, 4.25, 4.25, 4.25, 4.25, 4.25, 4.5, 4.5, 4.625, 4.625, 4.625, 4.625, 4.75, 4.75, 5.0, nan, 2.375, 3.0, 3.125, 3.125, 3.125, 3.125, 3.375, 3.5, 3.5, 3.5, 3.625, 3.625, 3.625, 3.75, 3.75, 3.75, 3.75, 3.875, 3.875, 3.875, 4.0, 4.0, 4.0, 4.125, 4.25, 4.25, 4.375, 4.375, 4.5, 4.5, 4.5, 4.5, 4.5, 4.5, 4.625, 4.625, 4.625, 4.75, 4.75, 4.75, 4.75, 4.875, nan, 4.875]\n",
      "\n",
      "수평개인    2\n",
      "dtype: int64\n"
     ]
    },
    {
     "data": {
      "text/plain": [
       "4.75"
      ]
     },
     "execution_count": 237,
     "metadata": {},
     "output_type": "execute_result"
    }
   ],
   "source": [
    "display(DSHS[['수평개인']].describe())\n",
    "\n",
    "print(sorted(list(DSHS['수평개인'])))\n",
    "print()\n",
    "\n",
    "print(DSHS[['수평개인']].isna().sum())\n",
    "\n",
    "DSHS[DSHS['번아웃']==1]['수평개인'].iloc[0]"
   ]
  },
  {
   "cell_type": "code",
   "execution_count": 212,
   "metadata": {},
   "outputs": [
    {
     "data": {
      "image/png": "[encoded data removed]",
      "text/plain": [
       "<Figure size 432x288 with 1 Axes>"
      ]
     },
     "metadata": {
      "needs_background": "light"
     },
     "output_type": "display_data"
    }
   ],
   "source": [
    "plt.boxplot(list(DSHS['수직공동체']))\n",
    "plt.scatter(1, DSHS[DSHS['번아웃']==1]['수직공동체'].iloc[0])\n",
    "plt.show()"
   ]
  },
  {
   "cell_type": "code",
   "execution_count": 238,
   "metadata": {},
   "outputs": [
    {
     "data": {
      "text/html": [
       "<div>\n",
       "<style scoped>\n",
       "    .dataframe tbody tr th:only-of-type {\n",
       "        vertical-align: middle;\n",
       "    }\n",
       "\n",
       "    .dataframe tbody tr th {\n",
       "        vertical-align: top;\n",
       "    }\n",
       "\n",
       "    .dataframe thead th {\n",
       "        text-align: right;\n",
       "    }\n",
       "</style>\n",
       "<table border=\"1\" class=\"dataframe\">\n",
       "  <thead>\n",
       "    <tr style=\"text-align: right;\">\n",
       "      <th></th>\n",
       "      <th>수직공동체</th>\n",
       "    </tr>\n",
       "  </thead>\n",
       "  <tbody>\n",
       "    <tr>\n",
       "      <th>count</th>\n",
       "      <td>86.000000</td>\n",
       "    </tr>\n",
       "    <tr>\n",
       "      <th>mean</th>\n",
       "      <td>3.682724</td>\n",
       "    </tr>\n",
       "    <tr>\n",
       "      <th>std</th>\n",
       "      <td>0.435739</td>\n",
       "    </tr>\n",
       "    <tr>\n",
       "      <th>min</th>\n",
       "      <td>2.428571</td>\n",
       "    </tr>\n",
       "    <tr>\n",
       "      <th>25%</th>\n",
       "      <td>3.321429</td>\n",
       "    </tr>\n",
       "    <tr>\n",
       "      <th>50%</th>\n",
       "      <td>3.714286</td>\n",
       "    </tr>\n",
       "    <tr>\n",
       "      <th>75%</th>\n",
       "      <td>4.000000</td>\n",
       "    </tr>\n",
       "    <tr>\n",
       "      <th>max</th>\n",
       "      <td>4.571429</td>\n",
       "    </tr>\n",
       "  </tbody>\n",
       "</table>\n",
       "</div>"
      ],
      "text/plain": [
       "           수직공동체\n",
       "count  86.000000\n",
       "mean    3.682724\n",
       "std     0.435739\n",
       "min     2.428571\n",
       "25%     3.321429\n",
       "50%     3.714286\n",
       "75%     4.000000\n",
       "max     4.571429"
      ]
     },
     "metadata": {},
     "output_type": "display_data"
    },
    {
     "name": "stdout",
     "output_type": "stream",
     "text": [
      "[2.714285714, 2.857142857, 3.0, 3.0, 3.142857143, 3.285714286, 3.285714286, 3.285714286, 3.285714286, 3.285714286, 3.285714286, 3.285714286, 3.571428571, 3.571428571, 3.571428571, 3.571428571, 3.571428571, 3.571428571, 3.714285714, 3.714285714, 3.714285714, 3.714285714, 3.714285714, 3.857142857, 3.857142857, 3.857142857, 3.857142857, 3.857142857, 3.857142857, 3.857142857, 3.857142857, 3.857142857, 4.0, 4.0, 4.0, 4.1428571430000005, 4.1428571430000005, 4.1428571430000005, 4.285714286, 4.428571429, 4.428571429, 4.428571429, 4.571428571, nan, 2.4285714290000002, 2.857142857, 3.0, 3.142857143, 3.142857143, 3.285714286, 3.285714286, 3.285714286, 3.285714286, 3.285714286, 3.428571429, 3.428571429, 3.428571429, 3.428571429, 3.428571429, 3.428571429, 3.571428571, 3.571428571, 3.571428571, 3.571428571, 3.571428571, 3.714285714, 3.714285714, 3.714285714, 3.714285714, 3.714285714, 3.857142857, 3.857142857, 3.857142857, 3.857142857, 4.0, 4.0, 4.0, 4.1428571430000005, 4.1428571430000005, 4.1428571430000005, 4.1428571430000005, 4.1428571430000005, 4.1428571430000005, 4.285714286, 4.285714286, 4.428571429, 4.428571429, nan]\n",
      "\n",
      "수직공동체    2\n",
      "dtype: int64\n"
     ]
    },
    {
     "data": {
      "text/plain": [
       "3.714285714"
      ]
     },
     "execution_count": 238,
     "metadata": {},
     "output_type": "execute_result"
    }
   ],
   "source": [
    "display(DSHS[['수직공동체']].describe())\n",
    "\n",
    "print(sorted(list(DSHS['수직공동체'])))\n",
    "print()\n",
    "\n",
    "print(DSHS[['수직공동체']].isna().sum())\n",
    "\n",
    "DSHS[DSHS['번아웃']==1]['수직공동체'].iloc[0]"
   ]
  },
  {
   "cell_type": "code",
   "execution_count": 213,
   "metadata": {},
   "outputs": [
    {
     "data": {
      "image/png": "[encoded data removed]",
      "text/plain": [
       "<Figure size 432x288 with 1 Axes>"
      ]
     },
     "metadata": {
      "needs_background": "light"
     },
     "output_type": "display_data"
    }
   ],
   "source": [
    "plt.boxplot(list(DSHS['수평공동체']))\n",
    "plt.scatter(1, DSHS[DSHS['번아웃']==1]['수평공동체'].iloc[0])\n",
    "plt.show()"
   ]
  },
  {
   "cell_type": "code",
   "execution_count": 239,
   "metadata": {},
   "outputs": [
    {
     "data": {
      "text/html": [
       "<div>\n",
       "<style scoped>\n",
       "    .dataframe tbody tr th:only-of-type {\n",
       "        vertical-align: middle;\n",
       "    }\n",
       "\n",
       "    .dataframe tbody tr th {\n",
       "        vertical-align: top;\n",
       "    }\n",
       "\n",
       "    .dataframe thead th {\n",
       "        text-align: right;\n",
       "    }\n",
       "</style>\n",
       "<table border=\"1\" class=\"dataframe\">\n",
       "  <thead>\n",
       "    <tr style=\"text-align: right;\">\n",
       "      <th></th>\n",
       "      <th>수평공동체</th>\n",
       "    </tr>\n",
       "  </thead>\n",
       "  <tbody>\n",
       "    <tr>\n",
       "      <th>count</th>\n",
       "      <td>86.000000</td>\n",
       "    </tr>\n",
       "    <tr>\n",
       "      <th>mean</th>\n",
       "      <td>4.049419</td>\n",
       "    </tr>\n",
       "    <tr>\n",
       "      <th>std</th>\n",
       "      <td>0.442785</td>\n",
       "    </tr>\n",
       "    <tr>\n",
       "      <th>min</th>\n",
       "      <td>2.500000</td>\n",
       "    </tr>\n",
       "    <tr>\n",
       "      <th>25%</th>\n",
       "      <td>3.750000</td>\n",
       "    </tr>\n",
       "    <tr>\n",
       "      <th>50%</th>\n",
       "      <td>4.000000</td>\n",
       "    </tr>\n",
       "    <tr>\n",
       "      <th>75%</th>\n",
       "      <td>4.375000</td>\n",
       "    </tr>\n",
       "    <tr>\n",
       "      <th>max</th>\n",
       "      <td>4.875000</td>\n",
       "    </tr>\n",
       "  </tbody>\n",
       "</table>\n",
       "</div>"
      ],
      "text/plain": [
       "           수평공동체\n",
       "count  86.000000\n",
       "mean    4.049419\n",
       "std     0.442785\n",
       "min     2.500000\n",
       "25%     3.750000\n",
       "50%     4.000000\n",
       "75%     4.375000\n",
       "max     4.875000"
      ]
     },
     "metadata": {},
     "output_type": "display_data"
    },
    {
     "name": "stdout",
     "output_type": "stream",
     "text": [
      "[2.5, 3.0, 3.125, 3.375, 3.625, 3.625, 3.625, 3.625, 3.75, 3.875, 3.875, 3.875, 3.875, 3.875, 4.0, 4.0, 4.0, 4.0, 4.0, 4.125, 4.125, 4.125, 4.125, 4.25, 4.25, 4.25, 4.25, 4.25, 4.375, 4.375, 4.375, 4.375, 4.5, 4.5, 4.5, 4.625, 4.625, 4.625, 4.75, 4.75, 4.75, 4.75, 4.875, nan, 3.375, 3.375, 3.625, 3.625, 3.625, 3.625, 3.75, 3.75, 3.75, 3.75, 3.75, 3.75, 3.75, 3.75, 3.75, 3.75, 3.75, 3.875, 3.875, 3.875, 3.875, 3.875, 3.875, 3.875, 3.875, 4.0, 4.0, 4.0, 4.0, 4.125, 4.125, 4.25, 4.375, 4.375, 4.5, 4.5, 4.5, 4.5, 4.5, 4.625, 4.625, 4.75, 4.875, nan]\n",
      "\n",
      "수평공동체    2\n",
      "dtype: int64\n"
     ]
    },
    {
     "data": {
      "text/plain": [
       "4.0"
      ]
     },
     "execution_count": 239,
     "metadata": {},
     "output_type": "execute_result"
    }
   ],
   "source": [
    "display(DSHS[['수평공동체']].describe())\n",
    "\n",
    "print(sorted(list(DSHS['수평공동체'])))\n",
    "print()\n",
    "\n",
    "print(DSHS[['수평공동체']].isna().sum())\n",
    "\n",
    "DSHS[DSHS['번아웃']==1]['수평공동체'].iloc[0]"
   ]
  },
  {
   "cell_type": "code",
   "execution_count": 216,
   "metadata": {},
   "outputs": [
    {
     "data": {
      "image/png": "[encoded data removed]",
      "text/plain": [
       "<Figure size 432x288 with 1 Axes>"
      ]
     },
     "metadata": {
      "needs_background": "light"
     },
     "output_type": "display_data"
    }
   ],
   "source": [
    "plt.boxplot(list(DSHS['인간관계']))\n",
    "plt.scatter(1, DSHS[DSHS['번아웃']==1]['인간관계'].iloc[0])\n",
    "plt.show()"
   ]
  },
  {
   "cell_type": "code",
   "execution_count": 240,
   "metadata": {},
   "outputs": [
    {
     "data": {
      "text/html": [
       "<div>\n",
       "<style scoped>\n",
       "    .dataframe tbody tr th:only-of-type {\n",
       "        vertical-align: middle;\n",
       "    }\n",
       "\n",
       "    .dataframe tbody tr th {\n",
       "        vertical-align: top;\n",
       "    }\n",
       "\n",
       "    .dataframe thead th {\n",
       "        text-align: right;\n",
       "    }\n",
       "</style>\n",
       "<table border=\"1\" class=\"dataframe\">\n",
       "  <thead>\n",
       "    <tr style=\"text-align: right;\">\n",
       "      <th></th>\n",
       "      <th>인간관계</th>\n",
       "    </tr>\n",
       "  </thead>\n",
       "  <tbody>\n",
       "    <tr>\n",
       "      <th>count</th>\n",
       "      <td>86.000000</td>\n",
       "    </tr>\n",
       "    <tr>\n",
       "      <th>mean</th>\n",
       "      <td>3.613372</td>\n",
       "    </tr>\n",
       "    <tr>\n",
       "      <th>std</th>\n",
       "      <td>0.663831</td>\n",
       "    </tr>\n",
       "    <tr>\n",
       "      <th>min</th>\n",
       "      <td>1.750000</td>\n",
       "    </tr>\n",
       "    <tr>\n",
       "      <th>25%</th>\n",
       "      <td>3.062500</td>\n",
       "    </tr>\n",
       "    <tr>\n",
       "      <th>50%</th>\n",
       "      <td>3.500000</td>\n",
       "    </tr>\n",
       "    <tr>\n",
       "      <th>75%</th>\n",
       "      <td>4.250000</td>\n",
       "    </tr>\n",
       "    <tr>\n",
       "      <th>max</th>\n",
       "      <td>4.750000</td>\n",
       "    </tr>\n",
       "  </tbody>\n",
       "</table>\n",
       "</div>"
      ],
      "text/plain": [
       "            인간관계\n",
       "count  86.000000\n",
       "mean    3.613372\n",
       "std     0.663831\n",
       "min     1.750000\n",
       "25%     3.062500\n",
       "50%     3.500000\n",
       "75%     4.250000\n",
       "max     4.750000"
      ]
     },
     "metadata": {},
     "output_type": "display_data"
    },
    {
     "name": "stdout",
     "output_type": "stream",
     "text": [
      "[1.75, 2.5, 2.75, 3.0, 3.0, 3.25, 3.25, 3.25, 3.25, 3.5, 3.5, 3.5, 3.5, 3.5, 3.5, 3.5, 3.5, 3.5, 3.5, 3.75, 3.75, 3.75, 3.75, 3.75, 4.0, 4.0, 4.0, 4.0, 4.25, 4.25, 4.25, 4.25, 4.25, 4.25, 4.25, 4.25, 4.5, 4.5, 4.5, 4.5, 4.5, 4.5, 4.75, nan, 2.0, 2.5, 2.5, 2.5, 2.75, 2.75, 2.75, 3.0, 3.0, 3.0, 3.0, 3.0, 3.0, 3.0, 3.0, 3.0, 3.0, 3.25, 3.25, 3.25, 3.25, 3.25, 3.5, 3.5, 3.5, 3.5, 3.75, 3.75, 3.75, 3.75, 4.0, 4.0, 4.0, 4.0, 4.25, 4.25, 4.25, 4.5, 4.5, 4.5, 4.5, 4.75, 4.75, nan]\n",
      "\n",
      "인간관계    2\n",
      "dtype: int64\n"
     ]
    },
    {
     "data": {
      "text/plain": [
       "3.0"
      ]
     },
     "execution_count": 240,
     "metadata": {},
     "output_type": "execute_result"
    }
   ],
   "source": [
    "display(DSHS[['인간관계']].describe())\n",
    "\n",
    "print(sorted(list(DSHS['인간관계'])))\n",
    "print()\n",
    "\n",
    "print(DSHS[['인간관계']].isna().sum())\n",
    "\n",
    "DSHS[DSHS['번아웃']==1]['인간관계'].iloc[0]"
   ]
  },
  {
   "cell_type": "code",
   "execution_count": 217,
   "metadata": {},
   "outputs": [
    {
     "data": {
      "image/png": "[encoded data removed]",
      "text/plain": [
       "<Figure size 432x288 with 1 Axes>"
      ]
     },
     "metadata": {
      "needs_background": "light"
     },
     "output_type": "display_data"
    }
   ],
   "source": [
    "plt.boxplot(list(DSHS['사회인식']))\n",
    "plt.scatter(1, DSHS[DSHS['번아웃']==1]['사회인식'].iloc[0])\n",
    "plt.show()"
   ]
  },
  {
   "cell_type": "code",
   "execution_count": 241,
   "metadata": {},
   "outputs": [
    {
     "data": {
      "text/html": [
       "<div>\n",
       "<style scoped>\n",
       "    .dataframe tbody tr th:only-of-type {\n",
       "        vertical-align: middle;\n",
       "    }\n",
       "\n",
       "    .dataframe tbody tr th {\n",
       "        vertical-align: top;\n",
       "    }\n",
       "\n",
       "    .dataframe thead th {\n",
       "        text-align: right;\n",
       "    }\n",
       "</style>\n",
       "<table border=\"1\" class=\"dataframe\">\n",
       "  <thead>\n",
       "    <tr style=\"text-align: right;\">\n",
       "      <th></th>\n",
       "      <th>사회인식</th>\n",
       "    </tr>\n",
       "  </thead>\n",
       "  <tbody>\n",
       "    <tr>\n",
       "      <th>count</th>\n",
       "      <td>86.000000</td>\n",
       "    </tr>\n",
       "    <tr>\n",
       "      <th>mean</th>\n",
       "      <td>3.531008</td>\n",
       "    </tr>\n",
       "    <tr>\n",
       "      <th>std</th>\n",
       "      <td>0.649541</td>\n",
       "    </tr>\n",
       "    <tr>\n",
       "      <th>min</th>\n",
       "      <td>1.666667</td>\n",
       "    </tr>\n",
       "    <tr>\n",
       "      <th>25%</th>\n",
       "      <td>3.000000</td>\n",
       "    </tr>\n",
       "    <tr>\n",
       "      <th>50%</th>\n",
       "      <td>3.333333</td>\n",
       "    </tr>\n",
       "    <tr>\n",
       "      <th>75%</th>\n",
       "      <td>4.000000</td>\n",
       "    </tr>\n",
       "    <tr>\n",
       "      <th>max</th>\n",
       "      <td>5.000000</td>\n",
       "    </tr>\n",
       "  </tbody>\n",
       "</table>\n",
       "</div>"
      ],
      "text/plain": [
       "            사회인식\n",
       "count  86.000000\n",
       "mean    3.531008\n",
       "std     0.649541\n",
       "min     1.666667\n",
       "25%     3.000000\n",
       "50%     3.333333\n",
       "75%     4.000000\n",
       "max     5.000000"
      ]
     },
     "metadata": {},
     "output_type": "display_data"
    },
    {
     "name": "stdout",
     "output_type": "stream",
     "text": [
      "[3.0, 3.0, 3.0, 3.0, 3.0, 3.0, 3.0, 3.0, 3.0, 3.0, 3.333333333, 3.333333333, 3.333333333, 3.333333333, 3.333333333, 3.333333333, 3.333333333, 3.333333333, 3.333333333, 3.333333333, 3.666666667, 3.666666667, 3.666666667, 3.666666667, 3.666666667, 3.666666667, 3.666666667, 3.666666667, 3.666666667, 3.666666667, 4.0, 4.0, 4.333333333, 4.333333333, 4.333333333, 4.333333333, 4.333333333, 4.333333333, 4.666666667, 4.666666667, 5.0, 5.0, 5.0, nan, 1.6666666669999999, 2.0, 2.0, 2.666666667, 2.666666667, 2.666666667, 3.0, 3.0, 3.0, 3.0, 3.0, 3.0, 3.0, 3.0, 3.0, 3.0, 3.333333333, 3.333333333, 3.333333333, 3.333333333, 3.333333333, 3.333333333, 3.333333333, 3.333333333, 3.333333333, 3.666666667, 3.666666667, 3.666666667, 3.666666667, 3.666666667, 3.666666667, 3.666666667, 3.666666667, 4.0, 4.0, 4.0, 4.0, 4.333333333, 4.333333333, 4.333333333, 4.333333333, 4.333333333, 4.666666667, nan]\n",
      "\n",
      "사회인식    2\n",
      "dtype: int64\n"
     ]
    },
    {
     "data": {
      "text/plain": [
       "4.0"
      ]
     },
     "execution_count": 241,
     "metadata": {},
     "output_type": "execute_result"
    }
   ],
   "source": [
    "display(DSHS[['사회인식']].describe())\n",
    "\n",
    "print(sorted(list(DSHS['사회인식'])))\n",
    "print()\n",
    "\n",
    "print(DSHS[['사회인식']].isna().sum())\n",
    "\n",
    "DSHS[DSHS['번아웃']==1]['사회인식'].iloc[0]"
   ]
  },
  {
   "cell_type": "code",
   "execution_count": 218,
   "metadata": {},
   "outputs": [
    {
     "data": {
      "image/png": "[encoded data removed]",
      "text/plain": [
       "<Figure size 432x288 with 1 Axes>"
      ]
     },
     "metadata": {
      "needs_background": "light"
     },
     "output_type": "display_data"
    }
   ],
   "source": [
    "plt.boxplot(list(DSHS['타인이해']))\n",
    "plt.scatter(1, DSHS[DSHS['번아웃']==1]['타인이해'].iloc[0])\n",
    "plt.show()"
   ]
  },
  {
   "cell_type": "code",
   "execution_count": 242,
   "metadata": {},
   "outputs": [
    {
     "data": {
      "text/html": [
       "<div>\n",
       "<style scoped>\n",
       "    .dataframe tbody tr th:only-of-type {\n",
       "        vertical-align: middle;\n",
       "    }\n",
       "\n",
       "    .dataframe tbody tr th {\n",
       "        vertical-align: top;\n",
       "    }\n",
       "\n",
       "    .dataframe thead th {\n",
       "        text-align: right;\n",
       "    }\n",
       "</style>\n",
       "<table border=\"1\" class=\"dataframe\">\n",
       "  <thead>\n",
       "    <tr style=\"text-align: right;\">\n",
       "      <th></th>\n",
       "      <th>타인이해</th>\n",
       "    </tr>\n",
       "  </thead>\n",
       "  <tbody>\n",
       "    <tr>\n",
       "      <th>count</th>\n",
       "      <td>87.000000</td>\n",
       "    </tr>\n",
       "    <tr>\n",
       "      <th>mean</th>\n",
       "      <td>2.155172</td>\n",
       "    </tr>\n",
       "    <tr>\n",
       "      <th>std</th>\n",
       "      <td>0.708381</td>\n",
       "    </tr>\n",
       "    <tr>\n",
       "      <th>min</th>\n",
       "      <td>0.000000</td>\n",
       "    </tr>\n",
       "    <tr>\n",
       "      <th>25%</th>\n",
       "      <td>1.750000</td>\n",
       "    </tr>\n",
       "    <tr>\n",
       "      <th>50%</th>\n",
       "      <td>2.000000</td>\n",
       "    </tr>\n",
       "    <tr>\n",
       "      <th>75%</th>\n",
       "      <td>3.000000</td>\n",
       "    </tr>\n",
       "    <tr>\n",
       "      <th>max</th>\n",
       "      <td>3.000000</td>\n",
       "    </tr>\n",
       "  </tbody>\n",
       "</table>\n",
       "</div>"
      ],
      "text/plain": [
       "            타인이해\n",
       "count  87.000000\n",
       "mean    2.155172\n",
       "std     0.708381\n",
       "min     0.000000\n",
       "25%     1.750000\n",
       "50%     2.000000\n",
       "75%     3.000000\n",
       "max     3.000000"
      ]
     },
     "metadata": {},
     "output_type": "display_data"
    },
    {
     "name": "stdout",
     "output_type": "stream",
     "text": [
      "[0.0, 0.5, 1.0, 1.0, 1.0, 1.0, 1.0, 1.0, 1.0, 1.0, 1.5, 1.5, 1.5, 1.5, 1.5, 1.5, 1.5, 1.5, 1.5, 1.5, 1.5, 1.5, 2.0, 2.0, 2.0, 2.0, 2.0, 2.0, 2.0, 2.0, 2.0, 2.0, 2.0, 2.0, 2.0, 2.0, 2.0, 2.0, 2.0, 2.0, 2.0, 2.0, 2.0, 2.0, 2.0, 2.0, 2.0, 2.0, 2.0, 2.0, 2.5, 2.5, 2.5, 2.5, 2.5, 2.5, 2.5, 2.5, 2.5, 2.5, 2.5, 2.5, 3.0, 3.0, 3.0, 3.0, 3.0, 3.0, 3.0, 3.0, 3.0, 3.0, 3.0, 3.0, 3.0, 3.0, 3.0, 3.0, 3.0, 3.0, 3.0, nan, 3.0, 3.0, 3.0, 3.0, 3.0, 3.0]\n",
      "\n",
      "타인이해    1\n",
      "dtype: int64\n"
     ]
    },
    {
     "data": {
      "text/plain": [
       "1.0"
      ]
     },
     "execution_count": 242,
     "metadata": {},
     "output_type": "execute_result"
    }
   ],
   "source": [
    "display(DSHS[['타인이해']].describe())\n",
    "\n",
    "print(sorted(list(DSHS['타인이해'])))\n",
    "print()\n",
    "\n",
    "print(DSHS[['타인이해']].isna().sum())\n",
    "\n",
    "DSHS[DSHS['번아웃']==1]['타인이해'].iloc[0]"
   ]
  },
  {
   "cell_type": "code",
   "execution_count": 219,
   "metadata": {
    "scrolled": true
   },
   "outputs": [
    {
     "data": {
      "image/png": "[encoded data removed]",
      "text/plain": [
       "<Figure size 432x288 with 1 Axes>"
      ]
     },
     "metadata": {
      "needs_background": "light"
     },
     "output_type": "display_data"
    }
   ],
   "source": [
    "plt.boxplot(list(DSHS['공동체의식']))\n",
    "plt.scatter(1, DSHS[DSHS['번아웃']==1]['공동체의식'].iloc[0])\n",
    "plt.show()"
   ]
  },
  {
   "cell_type": "code",
   "execution_count": 243,
   "metadata": {},
   "outputs": [
    {
     "data": {
      "text/html": [
       "<div>\n",
       "<style scoped>\n",
       "    .dataframe tbody tr th:only-of-type {\n",
       "        vertical-align: middle;\n",
       "    }\n",
       "\n",
       "    .dataframe tbody tr th {\n",
       "        vertical-align: top;\n",
       "    }\n",
       "\n",
       "    .dataframe thead th {\n",
       "        text-align: right;\n",
       "    }\n",
       "</style>\n",
       "<table border=\"1\" class=\"dataframe\">\n",
       "  <thead>\n",
       "    <tr style=\"text-align: right;\">\n",
       "      <th></th>\n",
       "      <th>공동체의식</th>\n",
       "    </tr>\n",
       "  </thead>\n",
       "  <tbody>\n",
       "    <tr>\n",
       "      <th>count</th>\n",
       "      <td>87.000000</td>\n",
       "    </tr>\n",
       "    <tr>\n",
       "      <th>mean</th>\n",
       "      <td>2.444444</td>\n",
       "    </tr>\n",
       "    <tr>\n",
       "      <th>std</th>\n",
       "      <td>0.524999</td>\n",
       "    </tr>\n",
       "    <tr>\n",
       "      <th>min</th>\n",
       "      <td>1.000000</td>\n",
       "    </tr>\n",
       "    <tr>\n",
       "      <th>25%</th>\n",
       "      <td>2.000000</td>\n",
       "    </tr>\n",
       "    <tr>\n",
       "      <th>50%</th>\n",
       "      <td>2.666667</td>\n",
       "    </tr>\n",
       "    <tr>\n",
       "      <th>75%</th>\n",
       "      <td>3.000000</td>\n",
       "    </tr>\n",
       "    <tr>\n",
       "      <th>max</th>\n",
       "      <td>3.000000</td>\n",
       "    </tr>\n",
       "  </tbody>\n",
       "</table>\n",
       "</div>"
      ],
      "text/plain": [
       "           공동체의식\n",
       "count  87.000000\n",
       "mean    2.444444\n",
       "std     0.524999\n",
       "min     1.000000\n",
       "25%     2.000000\n",
       "50%     2.666667\n",
       "75%     3.000000\n",
       "max     3.000000"
      ]
     },
     "metadata": {},
     "output_type": "display_data"
    },
    {
     "name": "stdout",
     "output_type": "stream",
     "text": [
      "[1.0, 1.333333333, 1.333333333, 1.333333333, 1.333333333, 1.6666666669999999, 1.6666666669999999, 1.6666666669999999, 1.6666666669999999, 1.6666666669999999, 1.6666666669999999, 2.0, 2.0, 2.0, 2.0, 2.0, 2.0, 2.0, 2.0, 2.0, 2.0, 2.0, 2.0, 2.0, 2.0, 2.0, 2.0, 2.0, 2.0, 2.333333333, 2.333333333, 2.333333333, 2.333333333, 2.333333333, 2.333333333, 2.333333333, 2.333333333, 2.333333333, 2.333333333, 2.666666667, 2.666666667, 2.666666667, 2.666666667, 2.666666667, 2.666666667, 2.666666667, 2.666666667, 2.666666667, 2.666666667, 2.666666667, 2.666666667, 2.666666667, 2.666666667, 2.666666667, 2.666666667, 3.0, 3.0, 3.0, 3.0, 3.0, 3.0, 3.0, 3.0, 3.0, 3.0, 3.0, 3.0, 3.0, 3.0, 3.0, 3.0, 3.0, 3.0, 3.0, nan, 2.666666667, 2.666666667, 2.666666667, 2.666666667, 2.666666667, 3.0, 3.0, 3.0, 3.0, 3.0, 3.0, 3.0, 3.0]\n",
      "\n",
      "공동체의식    1\n",
      "dtype: int64\n"
     ]
    },
    {
     "data": {
      "text/plain": [
       "1.6666666669999999"
      ]
     },
     "execution_count": 243,
     "metadata": {},
     "output_type": "execute_result"
    }
   ],
   "source": [
    "display(DSHS[['공동체의식']].describe())\n",
    "\n",
    "print(sorted(list(DSHS['공동체의식'])))\n",
    "print()\n",
    "\n",
    "print(DSHS[['공동체의식']].isna().sum())\n",
    "\n",
    "DSHS[DSHS['번아웃']==1]['공동체의식'].iloc[0]"
   ]
  },
  {
   "cell_type": "code",
   "execution_count": 220,
   "metadata": {},
   "outputs": [
    {
     "data": {
      "image/png": "[encoded data removed]",
      "text/plain": [
       "<Figure size 432x288 with 1 Axes>"
      ]
     },
     "metadata": {
      "needs_background": "light"
     },
     "output_type": "display_data"
    }
   ],
   "source": [
    "plt.boxplot(list(DSHS['대인관계능력']))\n",
    "plt.scatter(1, DSHS[DSHS['번아웃']==1]['대인관계능력'].iloc[0])\n",
    "plt.show()"
   ]
  },
  {
   "cell_type": "code",
   "execution_count": 221,
   "metadata": {
    "scrolled": true
   },
   "outputs": [
    {
     "data": {
      "image/png": "[encoded data removed]",
      "text/plain": [
       "<Figure size 432x288 with 1 Axes>"
      ]
     },
     "metadata": {
      "needs_background": "light"
     },
     "output_type": "display_data"
    }
   ],
   "source": [
    "plt.boxplot(list(DSHS['공동체역량']))\n",
    "plt.scatter(1, DSHS[DSHS['번아웃']==1]['공동체역량'].iloc[0])\n",
    "plt.show()"
   ]
  },
  {
   "cell_type": "code",
   "execution_count": 244,
   "metadata": {},
   "outputs": [
    {
     "data": {
      "text/html": [
       "<div>\n",
       "<style scoped>\n",
       "    .dataframe tbody tr th:only-of-type {\n",
       "        vertical-align: middle;\n",
       "    }\n",
       "\n",
       "    .dataframe tbody tr th {\n",
       "        vertical-align: top;\n",
       "    }\n",
       "\n",
       "    .dataframe thead th {\n",
       "        text-align: right;\n",
       "    }\n",
       "</style>\n",
       "<table border=\"1\" class=\"dataframe\">\n",
       "  <thead>\n",
       "    <tr style=\"text-align: right;\">\n",
       "      <th></th>\n",
       "      <th>공동체역량</th>\n",
       "    </tr>\n",
       "  </thead>\n",
       "  <tbody>\n",
       "    <tr>\n",
       "      <th>count</th>\n",
       "      <td>82.000000</td>\n",
       "    </tr>\n",
       "    <tr>\n",
       "      <th>mean</th>\n",
       "      <td>4.217886</td>\n",
       "    </tr>\n",
       "    <tr>\n",
       "      <th>std</th>\n",
       "      <td>0.448751</td>\n",
       "    </tr>\n",
       "    <tr>\n",
       "      <th>min</th>\n",
       "      <td>3.066667</td>\n",
       "    </tr>\n",
       "    <tr>\n",
       "      <th>25%</th>\n",
       "      <td>3.933333</td>\n",
       "    </tr>\n",
       "    <tr>\n",
       "      <th>50%</th>\n",
       "      <td>4.266667</td>\n",
       "    </tr>\n",
       "    <tr>\n",
       "      <th>75%</th>\n",
       "      <td>4.533333</td>\n",
       "    </tr>\n",
       "    <tr>\n",
       "      <th>max</th>\n",
       "      <td>5.000000</td>\n",
       "    </tr>\n",
       "  </tbody>\n",
       "</table>\n",
       "</div>"
      ],
      "text/plain": [
       "           공동체역량\n",
       "count  82.000000\n",
       "mean    4.217886\n",
       "std     0.448751\n",
       "min     3.066667\n",
       "25%     3.933333\n",
       "50%     4.266667\n",
       "75%     4.533333\n",
       "max     5.000000"
      ]
     },
     "metadata": {},
     "output_type": "display_data"
    },
    {
     "name": "stdout",
     "output_type": "stream",
     "text": [
      "[3.2, 3.4666666669999997, 3.5333333330000003, 3.6, 3.666666667, 3.733333333, 3.8, 3.866666667, 3.933333333, 3.933333333, 4.0, 4.0, 4.0, 4.0, 4.066666667, 4.066666667, 4.133333333, 4.133333333, 4.133333333, 4.2, 4.2, 4.2, 4.2, 4.266666667, 4.266666667, 4.333333333, 4.333333333, 4.466666667, 4.466666667, 4.533333333, 4.533333333, 4.6, 4.733333333, 4.733333333, 4.733333333, 4.8, 4.8, 4.8, 4.866666667, 4.866666667, nan, nan, 5.0, nan, 4.266666667, nan, 3.066666667, 3.2, 3.4666666669999997, 3.6, 3.6, 3.666666667, 3.8, 3.8, 3.8, 3.866666667, 3.866666667, 3.866666667, 3.933333333, 3.933333333, 4.066666667, 4.133333333, 4.2, 4.266666667, 4.266666667, 4.266666667, 4.333333333, 4.333333333, 4.333333333, 4.333333333, 4.4, 4.4, 4.466666667, 4.466666667, 4.533333333, 4.533333333, 4.533333333, 4.533333333, 4.6, 4.6, 4.666666667, 4.733333333, 5.0, nan, 4.933333333, 5.0, nan, 5.0]\n",
      "\n",
      "공동체역량    6\n",
      "dtype: int64\n"
     ]
    },
    {
     "data": {
      "text/plain": [
       "4.533333333"
      ]
     },
     "execution_count": 244,
     "metadata": {},
     "output_type": "execute_result"
    }
   ],
   "source": [
    "display(DSHS[['공동체역량']].describe())\n",
    "\n",
    "print(sorted(list(DSHS['공동체역량'])))\n",
    "print()\n",
    "\n",
    "print(DSHS[['공동체역량']].isna().sum())\n",
    "\n",
    "DSHS[DSHS['번아웃']==1]['공동체역량'].iloc[0]"
   ]
  },
  {
   "cell_type": "markdown",
   "metadata": {},
   "source": [
    "# 분석 후 느낀 점\n",
    ">> boxplot으로 그렸을 때 IQR이 그려지지 않는 등의 시리즈에 대해서는, 그들이 다른 컬럼들과 연산이 가능할 수 있도록 정규화를 시키거나 아예 그런 특징을 가지는 컬럼들을 모아서 하나의 새로운 컬럼을 만드는 등의 작업이 필요할 것 같다.\n",
    "\n",
    ">> (분석때는 느끼지 못했지만 회의 때 느낀점)\n",
    ">> 학습태도 대비 gpa 수치가 스트레스 요인으로 작용할 수도 있을 것 같다. (호영님 발표에서 아이디어 얻음)\n",
    ">> 또한 학습태도 및 책임감을 느끼고 있는 활동이 많다면 스트레스를 받을 수 있을 것임"
   ]
  }
 ],
 "metadata": {
  "kernelspec": {
   "display_name": "Python 3",
   "language": "python",
   "name": "python3"
  },
  "language_info": {
   "codemirror_mode": {
    "name": "ipython",
    "version": 3
   },
   "file_extension": ".py",
   "mimetype": "text/x-python",
   "name": "python",
   "nbconvert_exporter": "python",
   "pygments_lexer": "ipython3",
   "version": "3.8.5"
  }
 },
 "nbformat": 4,
 "nbformat_minor": 4
}
